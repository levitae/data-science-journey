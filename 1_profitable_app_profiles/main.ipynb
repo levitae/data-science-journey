{
 "cells": [
  {
   "cell_type": "markdown",
   "metadata": {},
   "source": [
    "# Profitable App Profiles for the Apple App Store and Google Play Markets\n",
    "\n",
    "Proyek ini bertujuan untuk mencari profil aplikasi mobile dengan tingkat _engagement user_ tinggi di platform App Store dan Google Play. Hasil akhir dari analisa berbasiskan data ini diharapkan dapat membantu _developer_ dalam memilih jenis aplikasi yang akan dibangun dan memiliki potensi profit yang baik.\n",
    "\n",
    "Kategori aplikasi yang dianalisa adalah berjenis gratis. Potensi _income_ yang didapat hanya bersumber dari iklan yang ditampilan dalam aplikasi. Oleh karena itu, jumlah user yang mengunduh serta engagement terhadap iklan merupakan hal krusial.\n",
    "\n",
    "### Data Collection\n",
    "\n",
    "Tercatat pada bulan September 2018, terdapat setidaknya __2 juta aplikasi iOS__ tersedia di App Store dan __2,1 juta aplikasi Android__ di Google Play.\n",
    "\n",
    "Proses analisa terhadap jumlah data dengan skala besar seperti itu pasti membutuhkan resource yang tidak kecil. Oleh karena itu, proyek ini akan memanfaatkan sebuah sampel sebagai berikut:\n",
    "\n",
    "* [Dataset sampel](https://www.kaggle.com/lava18/google-play-store-apps) sebanyak __tujuh ribuan__ aplikasi iOS di Apple App Store.\n",
    "* [Dataset sampel](https://www.kaggle.com/lava18/google-play-store-apps) sebanyak __sepuluh ribuan__ aplikasi Android di Google Play Store."
   ]
  },
  {
   "cell_type": "markdown",
   "metadata": {},
   "source": [
    "Langkah awal yakni membuka file data set dan mengubahnya ke dalam bentuk list dengan fungsi `import_data` berikut:"
   ]
  },
  {
   "cell_type": "code",
   "execution_count": 1,
   "metadata": {},
   "outputs": [],
   "source": [
    "from csv import reader\n",
    "\n",
    "# fungsi untuk import data set #\n",
    "def import_data(path_file):\n",
    "    # cetak nama path file #\n",
    "    print(\"Nama file:\", path_file)\n",
    "    open_file = open(path_file, encoding='utf8')\n",
    "    read_file = reader(open_file)\n",
    "    list_data = list(read_file)\n",
    "    return list_data[0], list_data[1:]"
   ]
  },
  {
   "cell_type": "markdown",
   "metadata": {},
   "source": [
    "Setelah fungsi untuk mendapatkan list tersedia maka langkah selanjutnya adalah ekplorasi data melalui fungsi `explore_data` berikut ini."
   ]
  },
  {
   "cell_type": "code",
   "execution_count": 2,
   "metadata": {},
   "outputs": [],
   "source": [
    "def explore_data(app_list, start, end):\n",
    "    print(\"Jumlah kolom:\", len(app_list[0]))\n",
    "    print(\"Total baris:\", len(app_list))\n",
    "    # cetak #\n",
    "    for s in app_list[start:end]:\n",
    "        print(s,\"\\n\")"
   ]
  },
  {
   "cell_type": "markdown",
   "metadata": {},
   "source": [
    "Parameter pada fungsi di atas antara lain `app_list`, `start` dan `end` untuk index data yang ingin dilihat.\n",
    "\n",
    "Jika dijalankan maka akan mencetak keterangan sebagai berikut:\n",
    " * jumlah kolom\n",
    " * jumlah baris\n",
    " * baris data sampel"
   ]
  },
  {
   "cell_type": "markdown",
   "metadata": {},
   "source": [
    "### App Store Data Exploration\n",
    "Setelah membuat fungsi import file dan eksploras, maka saatnya memulai ekplorasi. "
   ]
  },
  {
   "cell_type": "code",
   "execution_count": 3,
   "metadata": {
    "scrolled": true
   },
   "outputs": [
    {
     "name": "stdout",
     "output_type": "stream",
     "text": [
      "Nama file: AppleStore.csv\n",
      "\n",
      "Header:\n",
      "['id', 'track_name', 'size_bytes', 'currency', 'price', 'rating_count_tot', 'rating_count_ver', 'user_rating', 'user_rating_ver', 'ver', 'cont_rating', 'prime_genre', 'sup_devices.num', 'ipadSc_urls.num', 'lang.num', 'vpp_lic'] \n",
      "\n",
      "Jumlah kolom: 16\n",
      "Total baris: 7197\n",
      "['284882215', 'Facebook', '389879808', 'USD', '0.0', '2974676', '212', '3.5', '3.5', '95.0', '4+', 'Social Networking', '37', '1', '29', '1'] \n",
      "\n",
      "['389801252', 'Instagram', '113954816', 'USD', '0.0', '2161558', '1289', '4.5', '4.0', '10.23', '12+', 'Photo & Video', '37', '0', '29', '1'] \n",
      "\n",
      "['529479190', 'Clash of Clans', '116476928', 'USD', '0.0', '2130805', '579', '4.5', '4.5', '9.24.12', '9+', 'Games', '38', '5', '18', '1'] \n",
      "\n"
     ]
    }
   ],
   "source": [
    "apple_store_header, apple_store_data = import_data('AppleStore.csv')\n",
    "print(\"\\nHeader:\")\n",
    "print(apple_store_header, \"\\n\")\n",
    "explore_data(apple_store_data, 0, 3)"
   ]
  },
  {
   "cell_type": "markdown",
   "metadata": {},
   "source": [
    "### Google Play Store Data Exploration\n",
    "Hal yang sama kita terapkan untuk dataset Google Play Store:"
   ]
  },
  {
   "cell_type": "code",
   "execution_count": 4,
   "metadata": {},
   "outputs": [
    {
     "name": "stdout",
     "output_type": "stream",
     "text": [
      "Nama file: GooglePlayStore.csv\n",
      "\n",
      "Header:\n",
      "['App', 'Category', 'Rating', 'Reviews', 'Size', 'Installs', 'Type', 'Price', 'Content Rating', 'Genres', 'Last Updated', 'Current Ver', 'Android Ver'] \n",
      "\n",
      "Jumlah kolom: 13\n",
      "Total baris: 10841\n",
      "['Photo Editor & Candy Camera & Grid & ScrapBook', 'ART_AND_DESIGN', '4.1', '159', '19M', '10,000+', 'Free', '0', 'Everyone', 'Art & Design', 'January 7, 2018', '1.0.0', '4.0.3 and up'] \n",
      "\n",
      "['Coloring book moana', 'ART_AND_DESIGN', '3.9', '967', '14M', '500,000+', 'Free', '0', 'Everyone', 'Art & Design;Pretend Play', 'January 15, 2018', '2.0.0', '4.0.3 and up'] \n",
      "\n",
      "['U Launcher Lite – FREE Live Cool Themes, Hide Apps', 'ART_AND_DESIGN', '4.7', '87510', '8.7M', '5,000,000+', 'Free', '0', 'Everyone', 'Art & Design', 'August 1, 2018', '1.2.4', '4.0.3 and up'] \n",
      "\n"
     ]
    }
   ],
   "source": [
    "google_play_store_header, google_play_store_data = import_data('GooglePlayStore.csv')\n",
    "print(\"\\nHeader:\")\n",
    "print(google_play_store_header, \"\\n\")\n",
    "explore_data(google_play_store_data, 0, 3)"
   ]
  },
  {
   "cell_type": "markdown",
   "metadata": {},
   "source": [
    "## Exploration Overview\n",
    "\n",
    "Dari eksplorasi singkat di atas, didapatkan informasi sebagai berikut\n",
    "\n",
    "App Store:\n",
    "* Dimensi kolom x baris = 7197 x 16\n",
    "* Fokus analisis pada kolom `id`, `track_name`, `currency`, `price`, `rating_count_tot`, `rating_count_ver`, `prime_genre`\n",
    "\n",
    "Play Store:\n",
    "* Dimensi kolom x baris = 10841 x 13\n",
    "* Fokus analisis pada kolom `App`, `Category`, `Rating`, `Reviews`, `Installs`, `Price`, `Genres`"
   ]
  },
  {
   "cell_type": "markdown",
   "metadata": {},
   "source": [
    "## Data Cleaning\n",
    "Setelah melihat data secara garis besar, tahapan selanjutnya sebelum memulai analisa adalah membersihkan data. Proses _data cleaning_ diperlukan untuk menghasilkan analisis yang akurat yaitu dengan cara membuang data yang tidak sesuai, data duplikasi hingga memodifikasi data sedemikian rupa untuk menunjang analisa (misalnya null parameter)."
   ]
  },
  {
   "cell_type": "markdown",
   "metadata": {},
   "source": [
    "### Penghapusan Anomali\n",
    "\n",
    "Dari sumber dataset Google Play store terdapat [diskusi mengenai anomali](https://www.kaggle.com/lava18/google-play-store-apps/discussion/66015) pada baris 10472. Berikut detail lengkap jika dibandingkan dengan data normal."
   ]
  },
  {
   "cell_type": "code",
   "execution_count": 5,
   "metadata": {},
   "outputs": [
    {
     "name": "stdout",
     "output_type": "stream",
     "text": [
      "['Life Made WI-Fi Touchscreen Photo Frame', '1.9', '19', '3.0M', '1,000+', 'Free', '0', 'Everyone', '', 'February 11, 2018', '1.0.19', '4.0 and up'] \n",
      "\n",
      "['App', 'Category', 'Rating', 'Reviews', 'Size', 'Installs', 'Type', 'Price', 'Content Rating', 'Genres', 'Last Updated', 'Current Ver', 'Android Ver'] \n",
      "\n",
      "['Photo Editor & Candy Camera & Grid & ScrapBook', 'ART_AND_DESIGN', '4.1', '159', '19M', '10,000+', 'Free', '0', 'Everyone', 'Art & Design', 'January 7, 2018', '1.0.0', '4.0.3 and up'] \n",
      "\n"
     ]
    }
   ],
   "source": [
    "print(google_play_store_data[10472],\"\\n\")\n",
    "print(google_play_store_header,\"\\n\")\n",
    "print(google_play_store_data[0],\"\\n\")"
   ]
  },
  {
   "cell_type": "code",
   "execution_count": 6,
   "metadata": {},
   "outputs": [
    {
     "name": "stdout",
     "output_type": "stream",
     "text": [
      "Google Play Store missing value:\n",
      "10472 | n kolom: 12\n"
     ]
    }
   ],
   "source": [
    "print(\"Google Play Store missing value:\")\n",
    "for i, app in enumerate(google_play_store_data):\n",
    "    if len(app) != 13:\n",
    "        print(i, \"| n kolom:\", len(app))"
   ]
  },
  {
   "cell_type": "markdown",
   "metadata": {},
   "source": [
    "__Terdapat missing value di kolom 'Category' yang menyebabkan data bergeser. Solusi saat ini yaitu penghapusan data.__"
   ]
  },
  {
   "cell_type": "code",
   "execution_count": 7,
   "metadata": {},
   "outputs": [
    {
     "name": "stdout",
     "output_type": "stream",
     "text": [
      "10840\n"
     ]
    }
   ],
   "source": [
    "del(google_play_store_data[10472])\n",
    "print(len(google_play_store_data))"
   ]
  },
  {
   "cell_type": "markdown",
   "metadata": {},
   "source": [
    "__Pengecekan yang sama kita lakukan terhadap dataset App Store dan tidak ditemukan anomali.__"
   ]
  },
  {
   "cell_type": "code",
   "execution_count": 8,
   "metadata": {},
   "outputs": [
    {
     "name": "stdout",
     "output_type": "stream",
     "text": [
      "App Store missing value:\n"
     ]
    }
   ],
   "source": [
    "print(\"App Store missing value:\")\n",
    "for i, app in enumerate(apple_store_data):\n",
    "    if len(app) != 16:\n",
    "        print(i, \"| kolom:\", len(app))"
   ]
  },
  {
   "cell_type": "markdown",
   "metadata": {},
   "source": [
    "## Data Cleaning - Bagian 1\n",
    "\n",
    "Pada dokumentasi dataset yang telah disertakan, terdapat beberapa diskusi yang menyatakan adanya duplikasi data. Untuk menunjang keakuratan hasil analisa nantinya diperlukan penghapusan data-data tidak akurat dengan langkah sebagai berikut:\n",
    "\n",
    "1. memisahkan antara data unik dan duplikasi\n",
    "2. memeriksa perbedaan nilai/atribut antar data duplikasi\n",
    "3. menentukan kriteria duplikasi yang akan dihapus\n",
    "\n",
    "Pemisahan nilai akan terfokus pada atribut nama aplikasi. Untuk mengetahui jumlah duplikasi di kedua dataset, kita gunakan fungsi sebagai berikut untuk tujuan efisiensi."
   ]
  },
  {
   "cell_type": "code",
   "execution_count": 9,
   "metadata": {},
   "outputs": [],
   "source": [
    "def selecting_duplicates(list_of_data, index_name):\n",
    "    app_unique = []\n",
    "    app_duplicate = []\n",
    "    \n",
    "    for app in list_of_data:\n",
    "        app_name = app[index_name]\n",
    "        \n",
    "        if app_name not in app_unique:\n",
    "            app_unique.append(app_name)\n",
    "        else:\n",
    "            app_duplicate.append(app_name)\n",
    "    \n",
    "    return app_unique, app_duplicate"
   ]
  },
  {
   "cell_type": "code",
   "execution_count": 10,
   "metadata": {},
   "outputs": [
    {
     "name": "stdout",
     "output_type": "stream",
     "text": [
      "App Store unique:  7195\n",
      "App Store duplicate:  2\n",
      "------------------------------------\n",
      "Google Play Store unique:  9659\n",
      "Google Play duplicate:  1181\n"
     ]
    }
   ],
   "source": [
    "app_store_unique, app_store_duplicate = selecting_duplicates(apple_store_data, 1)\n",
    "google_play_unique, google_play_duplicate = selecting_duplicates(google_play_store_data, 0)\n",
    "\n",
    "print(\"App Store unique: \", len(app_store_unique))\n",
    "print(\"App Store duplicate: \", len(app_store_duplicate))\n",
    "print(\"------------------------------------\")\n",
    "print(\"Google Play Store unique: \", len(google_play_unique))\n",
    "print(\"Google Play duplicate: \", len(google_play_duplicate))"
   ]
  },
  {
   "cell_type": "markdown",
   "metadata": {},
   "source": [
    "Secara garis besar telah kita ketahui jumlah duplikasinya. Hasil analisa hanya akan akurat jika dilakukan menggunakan data yang akurat pula. Hal ini berpegang pada prinsip GIGO/_Garbage In Garbage Out_. Seleksi terhadap data duplikasi untuk mendapat data yang diinginkan tentu tidak boleh dilakukan secara acak. \n",
    "\n",
    "Selanjutnya dari hasil fungsi `selecting_duplicates` yang didapat. Kita akan mengamati kemungkinan perbedaan di dalamnya dengan contoh sebagai sebagai berikut."
   ]
  },
  {
   "cell_type": "markdown",
   "metadata": {},
   "source": [
    "### App Store Data\n",
    "Karena jumlah duplikasi hanya dua, maka kita amati keduanya."
   ]
  },
  {
   "cell_type": "code",
   "execution_count": 11,
   "metadata": {},
   "outputs": [
    {
     "name": "stdout",
     "output_type": "stream",
     "text": [
      "App Store Data\n",
      "['1173990889', 'Mannequin Challenge', '109705216', 'USD', '0.0', '668', '87', '3.0', '3.0', '1.4', '9+', 'Games', '37', '4', '1', '1'] \n",
      "\n",
      "['1178454060', 'Mannequin Challenge', '59572224', 'USD', '0.0', '105', '58', '4.0', '4.5', '1.0.1', '4+', 'Games', '38', '5', '1', '1'] \n",
      "\n",
      "['952877179', 'VR Roller Coaster', '169523200', 'USD', '0.0', '107', '102', '3.5', '3.5', '2.0.0', '4+', 'Games', '37', '5', '1', '1'] \n",
      "\n",
      "['1089824278', 'VR Roller Coaster', '240964608', 'USD', '0.0', '67', '44', '3.5', '4.0', '0.81', '4+', 'Games', '38', '0', '1', '1'] \n",
      "\n"
     ]
    }
   ],
   "source": [
    "print(\"App Store Data\")\n",
    "\n",
    "for app_name in app_store_duplicate:\n",
    "    for app in apple_store_data:\n",
    "        if app_name == app[1]:\n",
    "            print(app,\"\\n\")"
   ]
  },
  {
   "cell_type": "markdown",
   "metadata": {},
   "source": [
    "Kesimpulan:\n",
    "* Terdapat 4 buah data duplikasi yang sebenarnya bukan duplikasi karena setiap aplikasi tersebut memiliki `id` yang berbeda\n"
   ]
  },
  {
   "cell_type": "code",
   "execution_count": 12,
   "metadata": {},
   "outputs": [],
   "source": [
    "# list dataset app store baru\n",
    "app_store_clean = apple_store_data"
   ]
  },
  {
   "cell_type": "markdown",
   "metadata": {},
   "source": [
    "### Google Play Store Data\n",
    "Jumlah duplikasi data Google Play Store sangat besar. Proses seleksi dilakukan lebih spesifik dengan melihat perbedaan nilai pada atribut selain nama. Sebagai contoh adalah aplikasi dengan nama Instagram dan Video Editor sebagai berikut. "
   ]
  },
  {
   "cell_type": "code",
   "execution_count": 13,
   "metadata": {},
   "outputs": [
    {
     "name": "stdout",
     "output_type": "stream",
     "text": [
      "Google Play Store Data\n",
      "['Instagram', 'SOCIAL', '4.5', '66509917', 'Varies with device', '1,000,000,000+', 'Free', '0', 'Teen', 'Social', 'July 31, 2018', 'Varies with device', 'Varies with device'] \n",
      "\n",
      "['Instagram', 'SOCIAL', '4.5', '66577313', 'Varies with device', '1,000,000,000+', 'Free', '0', 'Teen', 'Social', 'July 31, 2018', 'Varies with device', 'Varies with device'] \n",
      "\n",
      "['Instagram', 'SOCIAL', '4.5', '66577313', 'Varies with device', '1,000,000,000+', 'Free', '0', 'Teen', 'Social', 'July 31, 2018', 'Varies with device', 'Varies with device'] \n",
      "\n",
      "['Instagram', 'SOCIAL', '4.5', '66577446', 'Varies with device', '1,000,000,000+', 'Free', '0', 'Teen', 'Social', 'July 31, 2018', 'Varies with device', 'Varies with device'] \n",
      "\n",
      "['Video Editor', 'FAMILY', '4.1', '159619', '23M', '5,000,000+', 'Free', '0', 'Everyone', 'Video Players & Editors;Creativity', 'July 17, 2018', '6.14.091', '4.3 and up'] \n",
      "\n",
      "['Video Editor', 'VIDEO_PLAYERS', '3.8', '1156', '23M', '100,000+', 'Free', '0', 'Everyone', 'Video Players & Editors', 'October 20, 2015', '1.3.9b', '4.3 and up'] \n",
      "\n",
      "['Video Editor', 'VIDEO_PLAYERS', '4.1', '159622', '23M', '5,000,000+', 'Free', '0', 'Everyone', 'Video Players & Editors;Creativity', 'July 17, 2018', '6.14.091', '4.3 and up'] \n",
      "\n"
     ]
    }
   ],
   "source": [
    "print(\"Google Play Store Data\")\n",
    "\n",
    "for app in sorted(google_play_store_data):\n",
    "    if app[0] == 'Instagram' or app[0] == 'Video Editor':\n",
    "        print(app,\"\\n\")"
   ]
  },
  {
   "cell_type": "markdown",
   "metadata": {},
   "source": [
    "Kesimpulan:\n",
    "* Aplikasi __Instagram__ memiliki perbedaan pada atribut `reviews`\n",
    "* Aplikasi __Video Editor__ memiliki perbedaan pada atribut `category`, `reviews` dan `Last Updated`\n",
    "* Perbedaan pada `category` akan diabaikan karena aplikasi di Google Play Store dapat memiliki kategori lebih dari satu dan ini memungkinkan duplikasi. \n",
    "* Atribut `Last Updated` dianggap cukup memberikan arti bahwa aplikasi yang memiliki nama sama namun tanggal update yang berbeda bukan merupakan aplikasi yang sama. \n",
    "* Selanjutnya, jika terdapat aplikasi dengan __nama__ dan __tanggal update__ yang sama, maka akan dipilih salah satu yang memiliki jumlah __review__ terbesar.\n"
   ]
  },
  {
   "cell_type": "code",
   "execution_count": 14,
   "metadata": {},
   "outputs": [
    {
     "name": "stdout",
     "output_type": "stream",
     "text": [
      "Clean:  8861\n",
      "Duplicate cleaned: 842\n"
     ]
    }
   ],
   "source": [
    "# list dataset google play store baru\n",
    "google_store_clean = []\n",
    "\n",
    "# dictionary duplikasi\n",
    "google_store_duplication_cleaned = {}\n",
    "for app in google_play_store_data:\n",
    "    name = app[0]\n",
    "    reviews = float(app[3])\n",
    "    last_update = app[10]\n",
    "\n",
    "    # jika nama tidak termasuk duplikasi maka otomatis masuk ke list bersih\n",
    "    if name not in google_play_duplicate:\n",
    "        google_store_clean.append(app)\n",
    "    else:\n",
    "        name_with_last_update = name+\"-\"+last_update\n",
    "        # jika kombinasi nama dan tanggal update tidak ada di list duplikasi\n",
    "        if name_with_last_update not in google_store_duplication_cleaned:\n",
    "            google_store_duplication_cleaned[name_with_last_update] = app\n",
    "        else:\n",
    "            # komparasi nilai review\n",
    "            if float(google_store_duplication_cleaned[name_with_last_update][3]) < reviews:\n",
    "                google_store_duplication_cleaned[name_with_last_update] = app\n",
    "                \n",
    "print(\"Clean: \", len(google_store_clean))\n",
    "print(\"Duplicate cleaned:\", len(google_store_duplication_cleaned))"
   ]
  },
  {
   "cell_type": "markdown",
   "metadata": {},
   "source": [
    "List data bersih sebanyak 8861 ini lebih kecil dari nilai `Google Play Store unique:  9659` sebelumnya dikarenakan data di dalamnya belum termasuk nama aplikasi duplikasi. Aplikasi Instagram dan Video Editor pada `google_store_duplication_cleaned` telah menjadi sebagai berikut."
   ]
  },
  {
   "cell_type": "code",
   "execution_count": 15,
   "metadata": {},
   "outputs": [
    {
     "name": "stdout",
     "output_type": "stream",
     "text": [
      "Instagram-July 31, 2018 <-> ['Instagram', 'SOCIAL', '4.5', '66577446', 'Varies with device', '1,000,000,000+', 'Free', '0', 'Teen', 'Social', 'July 31, 2018', 'Varies with device', 'Varies with device'] \n",
      "\n",
      "Video Editor-July 17, 2018 <-> ['Video Editor', 'VIDEO_PLAYERS', '4.1', '159622', '23M', '5,000,000+', 'Free', '0', 'Everyone', 'Video Players & Editors;Creativity', 'July 17, 2018', '6.14.091', '4.3 and up'] \n",
      "\n",
      "Video Editor-October 20, 2015 <-> ['Video Editor', 'VIDEO_PLAYERS', '3.8', '1156', '23M', '100,000+', 'Free', '0', 'Everyone', 'Video Players & Editors', 'October 20, 2015', '1.3.9b', '4.3 and up'] \n",
      "\n"
     ]
    }
   ],
   "source": [
    "for key,value in sorted(google_store_duplication_cleaned.items()):\n",
    "    if key.split(\"-\")[0] == 'Instagram' or key.split(\"-\")[0] == 'Video Editor':\n",
    "        print(key, \"<->\", value, \"\\n\")"
   ]
  },
  {
   "cell_type": "markdown",
   "metadata": {},
   "source": [
    "* Aplikasi Instagram tersisa satu dengan jumlah review 66577446\n",
    "* Video Editor menjadi 2 data yaitu dengan tanggal update July 17, 2018 dan October 20, 2015\n",
    "* Aplikasi Video Editor tanggal update July 17, 2018 memiliki jumlah review 159622 (diambil nilai terbesar)\n",
    "\n",
    "Maka dari sampel data duplikasi bersih yang terbentuk, kita dapat menggabungkannya ke list google_store_clean dengan cara berikut."
   ]
  },
  {
   "cell_type": "code",
   "execution_count": 16,
   "metadata": {},
   "outputs": [],
   "source": [
    "google_store_clean = google_store_clean + list(google_store_duplication_cleaned.values())"
   ]
  },
  {
   "cell_type": "markdown",
   "metadata": {},
   "source": [
    "## Data Cleaning - Bagian 2\n",
    "Hingga tahapan _data cleaning_ pertama, data yang berhasil dihimpun pada masing-masing dataset adalah sebagai berikut."
   ]
  },
  {
   "cell_type": "code",
   "execution_count": 17,
   "metadata": {},
   "outputs": [
    {
     "name": "stdout",
     "output_type": "stream",
     "text": [
      "App Store: 7197\n",
      "Google Play: 9703\n"
     ]
    }
   ],
   "source": [
    "print(\"App Store:\", len(app_store_clean))\n",
    "print(\"Google Play:\", len(google_store_clean))"
   ]
  },
  {
   "cell_type": "markdown",
   "metadata": {},
   "source": [
    "Proses _data cleaning_ selanjutnya dilakukan terhadap aplikasi non-english. Hal ini dilakukan untuk memperluas _scope_ analisa nantinya dan tidak terfokus pada bahasa regional. \n",
    "\n",
    "Jika kita amati dataset saat ini secara lebih jauh, terdapat beberapa aplikasi berbahasa asing dengan contoh sebagai berikut."
   ]
  },
  {
   "cell_type": "code",
   "execution_count": 18,
   "metadata": {},
   "outputs": [
    {
     "name": "stdout",
     "output_type": "stream",
     "text": [
      "爱奇艺PPS -《欢乐颂2》电视剧热播\n",
      "AlloCiné : Cinéma et Séries\n"
     ]
    }
   ],
   "source": [
    "print(app_store_clean[813][1])\n",
    "print(app_store_clean[4486][1])"
   ]
  },
  {
   "cell_type": "code",
   "execution_count": 19,
   "metadata": {},
   "outputs": [
    {
     "name": "stdout",
     "output_type": "stream",
     "text": [
      "뽕티비 - 개인방송, 인터넷방송, BJ방송\n",
      "BL 女性向け恋愛ゲーム◆俺プリクロス\n"
     ]
    }
   ],
   "source": [
    "print(google_store_clean[4528][0])\n",
    "print(google_store_clean[4600][0])"
   ]
  },
  {
   "cell_type": "markdown",
   "metadata": {},
   "source": [
    "Mekanisme penghapusan data dapat dilakukan dengan basis karakter selain alfanumerik serta beberapa tanda baca seperti `,` `!` `?` dan simbol `+` `*` `/`.\n",
    "\n",
    "Relasi karakter dan representasi angkanya yang sering digunakan pada text berbahasa Inggris yakni memiliki rentang dari 0 hinga 127 menurut sistem [ASCII](https://en.wikipedia.org/wiki/ASCII) (American Standard Code for Information Interchange).\n",
    "\n",
    "Kita dapat memanfaatkan Python built-in function `ord()` untuk mendapatkan nilai berupa angka dari setiap karakter."
   ]
  },
  {
   "cell_type": "code",
   "execution_count": 20,
   "metadata": {},
   "outputs": [
    {
     "name": "stdout",
     "output_type": "stream",
     "text": [
      "33\n",
      "101\n",
      "233\n",
      "29233\n"
     ]
    }
   ],
   "source": [
    "print(ord('!'))\n",
    "print(ord('e'))\n",
    "print(ord('é'))\n",
    "print(ord('爱'))"
   ]
  },
  {
   "cell_type": "markdown",
   "metadata": {},
   "source": [
    "Proses seleksi karakter 'non-English' akan menggunakan fungsi sebagai berikut yang akan menghasilkan list baru dan didalamnya terdapat __paling sedikit satu karakter__ dengan nilai ASCII lebih dari __127__"
   ]
  },
  {
   "cell_type": "code",
   "execution_count": 21,
   "metadata": {},
   "outputs": [
    {
     "name": "stdout",
     "output_type": "stream",
     "text": [
      "App Store non-English: 1490\n",
      "['Google – Search made just for mobile', 'The Sims™ FreePlay', '8 Ball Pool™', 'Lose It! – Weight Loss Program and Calorie Counter', '▻Sudoku']\n",
      "\n",
      "Google Play non-English: 545\n",
      "['U Launcher Lite – FREE Live Cool Themes, Hide Apps', 'CarMax – Cars for Sale: Search Used Car Inventory', 'AutoScout24 Switzerland – Find your new car', 'Zona Azul Digital Fácil SP CET - OFFICIAL São Paulo', 'ReadEra – free ebook reader']\n"
     ]
    }
   ],
   "source": [
    "def find_non_english(list_of_data, index_name):\n",
    "    non_english = []\n",
    "    for i, app in enumerate(list_of_data):\n",
    "        name = app[index_name]\n",
    "        for c in name:\n",
    "            if ord(c) > 127:\n",
    "                non_english.append(name)\n",
    "                break;\n",
    "    return non_english\n",
    "\n",
    "app_store_non_english = find_non_english(app_store_clean, 1)\n",
    "google_store_non_english = find_non_english(google_store_clean, 0)\n",
    "\n",
    "print(\"App Store non-English:\", len(app_store_non_english))\n",
    "print(app_store_non_english[:5])\n",
    "print(\"\\nGoogle Play non-English:\", len(google_store_non_english))\n",
    "print(google_store_non_english[:5])"
   ]
  },
  {
   "cell_type": "markdown",
   "metadata": {},
   "source": [
    "Pada summary di atas kita dapatkan list dengan jumlah lebih dari 2000 aplikasi 'non-English'. Namun jika diamati, terdapat aplikasi yang menggunakan `™` dan tanda baca `-` meskipun keduanya telah menggunakan Bahasa Inggris."
   ]
  },
  {
   "cell_type": "code",
   "execution_count": 22,
   "metadata": {},
   "outputs": [
    {
     "name": "stdout",
     "output_type": "stream",
     "text": [
      "8482\n",
      "8211\n"
     ]
    }
   ],
   "source": [
    "print(ord('™'))\n",
    "print(ord('–'))"
   ]
  },
  {
   "cell_type": "markdown",
   "metadata": {},
   "source": [
    "Mekanisme seleksi ini perlu diperbaiki untuk mencegah kesalahan penghapusan dan kehilangan banyak data. Oleh karena itu, perlu adanya perbaikan pada fungsi sebelumnya. Kita tambahkan preferensi __tidak lebih dari tiga karakter__ di luar range ASCII 0 - 127"
   ]
  },
  {
   "cell_type": "code",
   "execution_count": 23,
   "metadata": {},
   "outputs": [
    {
     "name": "stdout",
     "output_type": "stream",
     "text": [
      "App Store non-English: 1014\n",
      "['爱奇艺PPS -《欢乐颂2》电视剧热播', '聚力视频HD-人民的名义,跨界歌王全网热播', '优酷视频', '网易新闻 - 精选好内容，算出你的兴趣', '淘宝 - 随时随地，想淘就淘']\n",
      "\n",
      "Google Play non-English: 45\n",
      "['Flame - درب عقلك يوميا', 'သိင်္ Astrology - Min Thein Kha BayDin', 'РИА Новости', 'صور حرف H', 'L.POINT - 엘포인트 [ 포인트, 멤버십, 적립, 사용, 모바일 카드, 쿠폰, 롯데]']\n"
     ]
    }
   ],
   "source": [
    "def find_non_english(list_of_data, index_name):\n",
    "    non_english = []\n",
    "    for i, app in enumerate(list_of_data):\n",
    "        name = app[index_name]\n",
    "        n_chars = 0\n",
    "        for c in name:\n",
    "            if ord(c) > 127:\n",
    "                n_chars += 1\n",
    "                \n",
    "        if n_chars > 3:\n",
    "            non_english.append(name)\n",
    "    return non_english\n",
    "\n",
    "app_store_non_english = find_non_english(app_store_clean, 1)\n",
    "google_store_non_english = find_non_english(google_store_clean, 0)\n",
    "\n",
    "print(\"App Store non-English:\", len(app_store_non_english))\n",
    "print(app_store_non_english[:5])\n",
    "print(\"\\nGoogle Play non-English:\", len(google_store_non_english))\n",
    "print(google_store_non_english[:5])"
   ]
  },
  {
   "cell_type": "markdown",
   "metadata": {},
   "source": [
    "Fungsi memang tidak sempurna dan masih ada kemungkinan aplikasi non-English lolos dalam seleksi. Namun jika dibandingkan dengan metode sebelumnya, sudah terlihat perbedaan yang signifikan.\n",
    "\n",
    "Pada fungsi di bawah ini kita akan menerapkan filter non-English untuk kedua dataset."
   ]
  },
  {
   "cell_type": "code",
   "execution_count": 24,
   "metadata": {},
   "outputs": [],
   "source": [
    "app_store_english = []\n",
    "for app in app_store_clean:\n",
    "    app_name = app[1]\n",
    "    if app_name not in app_store_non_english:\n",
    "        app_store_english.append(app)\n",
    "        \n",
    "google_store_english = []\n",
    "for app in google_store_clean:\n",
    "    app_name = app[0]\n",
    "    if app_name not in google_store_non_english:\n",
    "        google_store_english.append(app)"
   ]
  },
  {
   "cell_type": "markdown",
   "metadata": {},
   "source": [
    "## Data Cleaning - Bagian 3\n",
    "Hingga tahapan _data cleaning_ kedua, data yang berhasil dihimpun pada masing-masing dataset adalah sebagai berikut."
   ]
  },
  {
   "cell_type": "code",
   "execution_count": 25,
   "metadata": {},
   "outputs": [
    {
     "name": "stdout",
     "output_type": "stream",
     "text": [
      "App Store: 6183\n",
      "Google Play: 9658\n"
     ]
    }
   ],
   "source": [
    "print(\"App Store:\", len(app_store_english))\n",
    "print(\"Google Play:\", len(google_store_english))"
   ]
  },
  {
   "cell_type": "markdown",
   "metadata": {},
   "source": [
    "Sesuai dengan pembahasan pembuka, kriteria aplikasi yang dibutuhkan untuk analisa ini adalah yang bertipe gratis. Filter aplikasi gratis ini akan menjadi tahapan _data cleaning_ terakhir. "
   ]
  },
  {
   "cell_type": "code",
   "execution_count": 26,
   "metadata": {},
   "outputs": [
    {
     "name": "stdout",
     "output_type": "stream",
     "text": [
      "['0.0', '0.99', '1.99', '11.99', '12.99', '13.99', '14.99', '15.99', '16.99', '17.99', '18.99', '19.99', '2.99', '20.99', '21.99', '22.99', '24.99', '249.99', '27.99', '29.99', '299.99', '3.99', '34.99', '39.99', '4.99', '49.99', '5.99', '59.99', '6.99', '7.99', '74.99', '8.99', '9.99', '99.99']\n"
     ]
    }
   ],
   "source": [
    "app_store_price = []\n",
    "\n",
    "for app in app_store_english:\n",
    "    app_price = app[4]\n",
    "    if app_price not in app_store_price:\n",
    "        app_store_price.append(app_price)\n",
    "        \n",
    "print(sorted(app_store_price))"
   ]
  },
  {
   "cell_type": "code",
   "execution_count": 27,
   "metadata": {},
   "outputs": [
    {
     "name": "stdout",
     "output_type": "stream",
     "text": [
      "['$0.99', '$1.00', '$1.04', '$1.20', '$1.26', '$1.29', '$1.49', '$1.50', '$1.59', '$1.61', '$1.70', '$1.75', '$1.76', '$1.96', '$1.97', '$1.99', '$10.00', '$10.99', '$109.99', '$11.99', '$12.99', '$13.99', '$14.00', '$14.99', '$15.46', '$15.99', '$154.99', '$16.99', '$17.99', '$18.99', '$19.40', '$19.90', '$19.99', '$2.00', '$2.49', '$2.50', '$2.56', '$2.59', '$2.60', '$2.90', '$2.95', '$2.99', '$200.00', '$24.99', '$25.99', '$28.99', '$29.99', '$299.99', '$3.02', '$3.04', '$3.08', '$3.28', '$3.49', '$3.61', '$3.88', '$3.90', '$3.95', '$3.99', '$30.99', '$33.99', '$37.99', '$379.99', '$389.99', '$39.99', '$394.99', '$399.99', '$4.29', '$4.49', '$4.59', '$4.60', '$4.77', '$4.80', '$4.84', '$4.85', '$4.99', '$400.00', '$46.99', '$5.00', '$5.49', '$5.99', '$6.49', '$6.99', '$7.49', '$7.99', '$74.99', '$79.99', '$8.49', '$8.99', '$89.99', '$9.00', '$9.99', '0']\n"
     ]
    }
   ],
   "source": [
    "google_store_price = []\n",
    "\n",
    "for app in google_store_english:\n",
    "    app_price = app[7]\n",
    "    if app_price not in google_store_price:\n",
    "        google_store_price.append(app_price)\n",
    "        \n",
    "print(sorted(google_store_price))"
   ]
  },
  {
   "cell_type": "markdown",
   "metadata": {},
   "source": [
    "Melalui seleksi dan sorting harga aplikasi di atas, dapat kita ketahui bahwa:\n",
    "* Aplikasi gratis di App Store memiliki harga `'0.0'`\n",
    "* Aplikasi gratis di Google Play Store memiliki harga `'0'`\n",
    "\n",
    "Dengan informasi ini, kita akan membuat dataset aplikasi gratis sebagai berikut."
   ]
  },
  {
   "cell_type": "code",
   "execution_count": 28,
   "metadata": {},
   "outputs": [
    {
     "name": "stdout",
     "output_type": "stream",
     "text": [
      "App Store Free: 3222\n",
      "Google Play Free: 8906\n"
     ]
    }
   ],
   "source": [
    "app_store_free = []\n",
    "\n",
    "for app in app_store_english:\n",
    "    if app[4] == '0.0':\n",
    "        app_store_free.append(app)\n",
    "        \n",
    "google_store_free = []\n",
    "\n",
    "for app in google_store_english:\n",
    "    if app[7] == '0':\n",
    "        google_store_free.append(app)\n",
    "        \n",
    "print(\"App Store Free:\", len(app_store_free))\n",
    "print(\"Google Play Free:\", len(google_store_free))"
   ]
  },
  {
   "cell_type": "markdown",
   "metadata": {},
   "source": [
    "Hingga tahapan _data cleaning_ terakhir, tersisa __3222__ aplikasi iOS dan __8906__ aplikasi Android."
   ]
  },
  {
   "cell_type": "markdown",
   "metadata": {},
   "source": [
    "## Analisa\n",
    "\n",
    "Sejauh ini langkah-langkah yang telah dilakukan antara lain:\n",
    "* menghapus data tidak akurat\n",
    "* menghapus duplikasi\n",
    "* menghapus aplikasi non-English\n",
    "* menghapus aplikasi berbayar\n",
    "\n",
    "Kembali disampaikan berdasarkan pembuka sebelumnya, tujuan analisa ini adalah menentukan profil aplikasi yang berpotensi menarik banyak user karena hal ini berelasi dengan engagement dan tentunya tingkat profitabilitas.\n",
    "\n",
    "Untuk meminimalisir resiko dan biaya tambahan, strategi validasi dalam analisa ini tersusun menjadi tiga tahapan berikut:\n",
    "\n",
    "1. Buat versi minimal aplikasi Android dan daftarkan ke platform Google Play.\n",
    "2. Jika aplikasi mendapat respon baik dari pengguna, maka kembangkan aplikasi lebih jauh.\n",
    "3. Jika aplikasi mendapatkan profit setelah 6 bulan, maka buat aplikasi versi iOS dan daftarkan ke platform Apple App Store.\n",
    "\n",
    "Alasan memulai dengan aplikasi Adroid didasari oleh fakta bahwa kondisi _market share_ untuk perangkat mobile secara global dipimpin oleh Android [(sumber)](https://gs.statcounter.com/os-market-share/mobile/worldwide).\n",
    "\n",
    "## Kategori Aplikasi Populer\n",
    "\n",
    "Kita akan memulai analisa dengan mengamati genre/tipe aplikasi apa yang paling banyak di setiap platform. Untuk mendapatkan hasilnya, maka kita akan membuat tabel frekuensi di tiap dataset.\n",
    "\n",
    "* Dataset Google Play Store memiliki atribut `'Category'` pada index 1 dan `Genres` pada index 9\n",
    "* Dataset App Store memiliki atribut `prime_genres` pada index 11"
   ]
  },
  {
   "cell_type": "code",
   "execution_count": 29,
   "metadata": {},
   "outputs": [],
   "source": [
    "def freq_table(dataset, index):\n",
    "    table_freq = {}\n",
    "    total_data = len(dataset)\n",
    "    for app in dataset:\n",
    "        atr = app[index]\n",
    "        if atr in table_freq:\n",
    "            table_freq[atr] += 1\n",
    "        else:\n",
    "            table_freq[atr] = 1\n",
    "    \n",
    "    for freq in table_freq:\n",
    "        table_freq[freq] = (table_freq[freq] / total_data) * 100\n",
    "    return table_freq\n",
    "\n",
    "def display_table(dataset, index):\n",
    "    table = freq_table(dataset, index)\n",
    "    table_display = []\n",
    "    for key in table:\n",
    "        key_val_as_tuple = (table[key], key)\n",
    "        table_display.append(key_val_as_tuple)\n",
    "\n",
    "    table_sorted = sorted(table_display, reverse = True)\n",
    "    for entry in table_sorted:\n",
    "        print(entry[1], ':', entry[0])"
   ]
  },
  {
   "cell_type": "code",
   "execution_count": 30,
   "metadata": {},
   "outputs": [
    {
     "name": "stdout",
     "output_type": "stream",
     "text": [
      "Games : 58.16263190564867\n",
      "Entertainment : 7.883302296710118\n",
      "Photo & Video : 4.9658597144630665\n",
      "Education : 3.662321539416512\n",
      "Social Networking : 3.2898820608317814\n",
      "Shopping : 2.60707635009311\n",
      "Utilities : 2.5139664804469275\n",
      "Sports : 2.1415270018621975\n",
      "Music : 2.0484171322160147\n",
      "Health & Fitness : 2.0173805090006205\n",
      "Productivity : 1.7380509000620732\n",
      "Lifestyle : 1.5828677839851024\n",
      "News : 1.3345747982619491\n",
      "Travel : 1.2414649286157666\n",
      "Finance : 1.1173184357541899\n",
      "Weather : 0.8690254500310366\n",
      "Food & Drink : 0.8069522036002483\n",
      "Reference : 0.5586592178770949\n",
      "Business : 0.5276225946617008\n",
      "Book : 0.4345127250155183\n",
      "Navigation : 0.186219739292365\n",
      "Medical : 0.186219739292365\n",
      "Catalogs : 0.12414649286157665\n"
     ]
    }
   ],
   "source": [
    "# prime_genres\n",
    "display_table(app_store_free, 11)"
   ]
  },
  {
   "cell_type": "markdown",
   "metadata": {},
   "source": [
    "Dataset App Store nampaknya sangat didominasi aplikasi gratis berupa games kemudian disusul oleh aplikasi entertaintment lalu aplikasi praktikal."
   ]
  },
  {
   "cell_type": "code",
   "execution_count": 31,
   "metadata": {},
   "outputs": [
    {
     "name": "stdout",
     "output_type": "stream",
     "text": [
      "FAMILY : 18.874915787109813\n",
      "GAME : 9.723781720188637\n",
      "TOOLS : 8.443745789355491\n",
      "BUSINESS : 4.581181226139681\n",
      "PRODUCTIVITY : 3.8962497192903656\n",
      "LIFESTYLE : 3.8850213339321806\n",
      "FINANCE : 3.6941387828430274\n",
      "MEDICAL : 3.559398158544801\n",
      "SPORTS : 3.390972378172019\n",
      "PERSONALIZATION : 3.301145295306535\n",
      "COMMUNICATION : 3.2337749831574216\n",
      "HEALTH_AND_FITNESS : 3.0653492027846396\n",
      "PHOTOGRAPHY : 2.9755221199191557\n",
      "NEWS_AND_MAGAZINES : 2.8070963395463733\n",
      "SOCIAL : 2.661127329889962\n",
      "TRAVEL_AND_LOCAL : 2.324275769144397\n",
      "SHOPPING : 2.2905906130698406\n",
      "BOOKS_AND_REFERENCE : 2.133393218055244\n",
      "DATING : 1.8526835841006062\n",
      "VIDEO_PLAYERS : 1.8077700426678642\n",
      "MAPS_AND_NAVIGATION : 1.4147765551313722\n",
      "FOOD_AND_DRINK : 1.2463507747585896\n",
      "EDUCATION : 1.1789804626094766\n",
      "ENTERTAINMENT : 0.9544127554457669\n",
      "LIBRARIES_AND_DEMO : 0.9319559847293959\n",
      "AUTO_AND_VEHICLES : 0.9207275993712105\n",
      "HOUSE_AND_HOME : 0.8309005165057264\n",
      "WEATHER : 0.8084437457893554\n",
      "EVENTS : 0.7073882775656861\n",
      "PARENTING : 0.6512463507747586\n",
      "ART_AND_DESIGN : 0.6400179654165731\n",
      "COMICS : 0.6175611947002021\n",
      "BEAUTY : 0.5951044239838311\n"
     ]
    }
   ],
   "source": [
    "# Category\n",
    "display_table(google_store_free, 1)"
   ]
  },
  {
   "cell_type": "markdown",
   "metadata": {},
   "source": [
    "Dapat kita lihat kategori terbanyak diambil oleh Family lalu Game yang pada dasarnya sama karena jika ditelusuri, kategori family sebagian besar berisi game untuk anak-anak. Kedua kategori ini jika digabung adalah sebesar 18,5%. Kemudian disusul oleh kategori praktikal seperti Tools, Produktifitas, Health, Sport, etc.  "
   ]
  },
  {
   "cell_type": "code",
   "execution_count": 32,
   "metadata": {},
   "outputs": [
    {
     "name": "stdout",
     "output_type": "stream",
     "text": [
      "Tools : 8.432517403997306\n",
      "Entertainment : 6.040871322703795\n",
      "Education : 5.344711430496295\n",
      "Business : 4.581181226139681\n",
      "Productivity : 3.8962497192903656\n",
      "Lifestyle : 3.8737929485739953\n",
      "Finance : 3.6941387828430274\n",
      "Medical : 3.559398158544801\n",
      "Sports : 3.458342690321132\n",
      "Personalization : 3.301145295306535\n",
      "Communication : 3.2337749831574216\n",
      "Action : 3.0878059735010104\n",
      "Health & Fitness : 3.0653492027846396\n",
      "Photography : 2.9755221199191557\n",
      "News & Magazines : 2.8070963395463733\n",
      "Social : 2.661127329889962\n",
      "Travel & Local : 2.3130473837862113\n",
      "Shopping : 2.2905906130698406\n",
      "Books & Reference : 2.133393218055244\n",
      "Simulation : 2.0323377498315742\n",
      "Dating : 1.8526835841006062\n",
      "Arcade : 1.8526835841006062\n",
      "Video Players & Editors : 1.7853132719514935\n",
      "Casual : 1.7628565012351223\n",
      "Maps & Navigation : 1.4147765551313722\n",
      "Food & Drink : 1.2463507747585896\n",
      "Puzzle : 1.1228385358185493\n",
      "Racing : 0.9880979115203234\n",
      "Role Playing : 0.9319559847293959\n",
      "Libraries & Demo : 0.9319559847293959\n",
      "Auto & Vehicles : 0.9207275993712105\n",
      "Strategy : 0.9094992140130249\n",
      "House & Home : 0.8309005165057264\n",
      "Weather : 0.8084437457893554\n",
      "Events : 0.7073882775656861\n",
      "Adventure : 0.6737031214911295\n",
      "Comics : 0.6063328093420166\n",
      "Beauty : 0.5951044239838311\n",
      "Art & Design : 0.5951044239838311\n",
      "Parenting : 0.4940489557601617\n",
      "Card : 0.46036379968560526\n",
      "Casino : 0.4266786436110487\n",
      "Trivia : 0.4154502582528632\n",
      "Educational;Education : 0.3929934875364922\n",
      "Board : 0.3817651021783068\n",
      "Educational : 0.3705367168201213\n",
      "Education;Education : 0.3480799461037503\n",
      "Word : 0.26948124859645184\n",
      "Casual;Pretend Play : 0.23579609252189537\n",
      "Music : 0.20211093644733885\n",
      "Racing;Action & Adventure : 0.1796541657309679\n",
      "Puzzle;Brain Games : 0.1796541657309679\n",
      "Entertainment;Music & Video : 0.16842578037278239\n",
      "Casual;Brain Games : 0.13474062429822592\n",
      "Casual;Action & Adventure : 0.13474062429822592\n",
      "Arcade;Action & Adventure : 0.12351223894004043\n",
      "Action;Action & Adventure : 0.10105546822366943\n",
      "Educational;Pretend Play : 0.08982708286548395\n",
      "Board;Brain Games : 0.08982708286548395\n",
      "Simulation;Action & Adventure : 0.07859869750729845\n",
      "Parenting;Education : 0.07859869750729845\n",
      "Entertainment;Brain Games : 0.07859869750729845\n",
      "Parenting;Music & Video : 0.06737031214911296\n",
      "Educational;Brain Games : 0.06737031214911296\n",
      "Casual;Creativity : 0.06737031214911296\n",
      "Art & Design;Creativity : 0.06737031214911296\n",
      "Education;Pretend Play : 0.05614192679092747\n",
      "Role Playing;Pretend Play : 0.044913541432741975\n",
      "Education;Creativity : 0.044913541432741975\n",
      "Role Playing;Action & Adventure : 0.03368515607455648\n",
      "Puzzle;Action & Adventure : 0.03368515607455648\n",
      "Entertainment;Creativity : 0.03368515607455648\n",
      "Entertainment;Action & Adventure : 0.03368515607455648\n",
      "Educational;Creativity : 0.03368515607455648\n",
      "Educational;Action & Adventure : 0.03368515607455648\n",
      "Education;Music & Video : 0.03368515607455648\n",
      "Education;Brain Games : 0.03368515607455648\n",
      "Education;Action & Adventure : 0.03368515607455648\n",
      "Adventure;Action & Adventure : 0.03368515607455648\n",
      "Video Players & Editors;Music & Video : 0.022456770716370988\n",
      "Sports;Action & Adventure : 0.022456770716370988\n",
      "Simulation;Pretend Play : 0.022456770716370988\n",
      "Puzzle;Creativity : 0.022456770716370988\n",
      "Music;Music & Video : 0.022456770716370988\n",
      "Entertainment;Pretend Play : 0.022456770716370988\n",
      "Casual;Education : 0.022456770716370988\n",
      "Board;Action & Adventure : 0.022456770716370988\n",
      "Video Players & Editors;Creativity : 0.011228385358185494\n",
      "Trivia;Education : 0.011228385358185494\n",
      "Travel & Local;Action & Adventure : 0.011228385358185494\n",
      "Tools;Education : 0.011228385358185494\n",
      "Strategy;Education : 0.011228385358185494\n",
      "Strategy;Creativity : 0.011228385358185494\n",
      "Strategy;Action & Adventure : 0.011228385358185494\n",
      "Simulation;Education : 0.011228385358185494\n",
      "Role Playing;Brain Games : 0.011228385358185494\n",
      "Racing;Pretend Play : 0.011228385358185494\n",
      "Puzzle;Education : 0.011228385358185494\n",
      "Parenting;Brain Games : 0.011228385358185494\n",
      "Music & Audio;Music & Video : 0.011228385358185494\n",
      "Lifestyle;Pretend Play : 0.011228385358185494\n",
      "Lifestyle;Education : 0.011228385358185494\n",
      "Health & Fitness;Education : 0.011228385358185494\n",
      "Health & Fitness;Action & Adventure : 0.011228385358185494\n",
      "Entertainment;Education : 0.011228385358185494\n",
      "Communication;Creativity : 0.011228385358185494\n",
      "Comics;Creativity : 0.011228385358185494\n",
      "Casual;Music & Video : 0.011228385358185494\n",
      "Card;Brain Games : 0.011228385358185494\n",
      "Card;Action & Adventure : 0.011228385358185494\n",
      "Books & Reference;Education : 0.011228385358185494\n",
      "Art & Design;Pretend Play : 0.011228385358185494\n",
      "Art & Design;Action & Adventure : 0.011228385358185494\n",
      "Arcade;Pretend Play : 0.011228385358185494\n",
      "Adventure;Education : 0.011228385358185494\n"
     ]
    }
   ],
   "source": [
    "# Genres\n",
    "display_table(google_store_free, 9)"
   ]
  },
  {
   "cell_type": "markdown",
   "metadata": {},
   "source": [
    "Berdasarkan genre didapatkan jumlah yang lebih beragam namun dengan persebaran hampir serupa yakni aplikasi praktikal menempati urutan pertama. Perbedaan antara `Category` dan `Genres` nampaknya tidak terlalu signifikan. Untuk analisa lebih lanjut kita akan menggunakan atribut `Category` untuk mempermudah mendapatkan gambaran lebih besar.\n",
    "\n",
    "Harus digaris bawahi di sini adalah persebaran pada App Store sebelumnya tidak merata, berbeda dengan Google Play. Lebih lanjut melihat perbandingan tipe aplikasi Productivity hanya sebesar 1,7% atau setengah dari platform Google Play. Hal ini dapat menandakan bahwa tipe aplikasi praktikal termasuk aplikasi premium yang tidak ditawarkan secara gratis."
   ]
  },
  {
   "cell_type": "markdown",
   "metadata": {},
   "source": [
    "## Aplikasi Populer Berdasarkan Kategori\n",
    "\n",
    "Selanjutnya untuk mengetahui kategori aplikasi paling populer pada tiap kategori akan kita analisa nilai rata-ratanya dengan bantuan data jumlah pengguna. \n",
    "\n",
    "Pada dataset Google Play kita akan menggunakan atribut `Installs`.\n",
    "Namun pada dataset App Store tidak memiliki atribut jumlah instalasi. Sebagai pengganti kita akan menggunakan jumlah reviewnya / `rating_count_tot`.\n",
    "\n",
    "### Aplikasi Populer di App Store"
   ]
  },
  {
   "cell_type": "code",
   "execution_count": 33,
   "metadata": {},
   "outputs": [
    {
     "name": "stdout",
     "output_type": "stream",
     "text": [
      "Navigation : 86090.33333333333\n",
      "Reference : 74942.11111111111\n",
      "Social Networking : 71548.34905660378\n",
      "Music : 57326.530303030304\n",
      "Weather : 52279.892857142855\n",
      "Book : 39758.5\n",
      "Food & Drink : 33333.92307692308\n",
      "Finance : 31467.944444444445\n",
      "Photo & Video : 28441.54375\n",
      "Travel : 28243.8\n",
      "Shopping : 26919.690476190477\n",
      "Health & Fitness : 23298.015384615384\n",
      "Sports : 23008.898550724636\n",
      "Games : 22788.6696905016\n",
      "News : 21248.023255813954\n",
      "Productivity : 21028.410714285714\n",
      "Utilities : 18684.456790123455\n",
      "Lifestyle : 16485.764705882353\n",
      "Entertainment : 14029.830708661417\n",
      "Business : 7491.117647058823\n",
      "Education : 7003.983050847458\n",
      "Catalogs : 4004.0\n",
      "Medical : 612.0\n"
     ]
    }
   ],
   "source": [
    "genres_app_store = freq_table(app_store_free, 11)\n",
    "# print(genres_app_store)\n",
    "\n",
    "table_ratings = {}\n",
    "for genre in genres_app_store:\n",
    "    n_apps = 0\n",
    "    sum_ratings = 0\n",
    "    for app in app_store_free:\n",
    "        app_genre = app[11]\n",
    "        if app_genre == genre:\n",
    "            app_rating = float(app[5])\n",
    "            n_apps += 1\n",
    "            sum_ratings += app_rating\n",
    "    table_ratings[genre] = sum_ratings/n_apps\n",
    "\n",
    "table_display = []\n",
    "for key in table_ratings:\n",
    "    key_val_as_tuple = (table_ratings[key], key)\n",
    "    table_display.append(key_val_as_tuple)\n",
    "\n",
    "table_sorted = sorted(table_display, reverse = True)\n",
    "for entry in table_sorted:\n",
    "    print(entry[1], ':', entry[0])"
   ]
  },
  {
   "cell_type": "markdown",
   "metadata": {},
   "source": [
    "Berdasarkan rata-rata, aplikasi navigasi menempati urutan ke-1. Jika kita amati lebih jauh adalah sebagai berikut."
   ]
  },
  {
   "cell_type": "code",
   "execution_count": 34,
   "metadata": {},
   "outputs": [
    {
     "name": "stdout",
     "output_type": "stream",
     "text": [
      "Waze - GPS Navigation, Maps & Real-time Traffic : 345046\n",
      "Google Maps - Navigation & Transit : 154911\n",
      "Geocaching® : 12811\n",
      "CoPilot GPS – Car Navigation & Offline Maps : 3582\n",
      "ImmobilienScout24: Real Estate Search in Germany : 187\n",
      "Railway Route Search : 5\n"
     ]
    }
   ],
   "source": [
    "for app in app_store_free:\n",
    "    if app[-5] == 'Navigation':\n",
    "        # cetak nama dan ratingnya\n",
    "        print(app[1], ':', app[5]) "
   ]
  },
  {
   "cell_type": "markdown",
   "metadata": {},
   "source": [
    "* Besarnya rating pada kategori Navigation ternyata sangat didominasi oleh segelintir perusahaan besar. Pola ini juga terjadi pada kategori Social Networking dan Music.\n",
    "* Posisi kedua yaitu Reference juga didominasi oleh hanya beberapa aplikasi seperti alkitab dan kamus. Namun tidak terlalu dipengaruhi oleh perusahaan besar sehingga masih cukup potensial.\n",
    "* Kategori Weather tidak kalah baik ratingnya, namun untuk membangun aplikasi forecasting tentu membutuhkan resource yang besar. Sama halnya dengan kategori Food & Drink, Finance, Travel, Shopping yang tentunya diwajibkan untuk memiliki _domain knowledge_ serta bidang usaha tersendiri.\n",
    "\n",
    "### Aplikasi Populer di Goole Play Store\n",
    "Meskipun esensi dari atribut `Installs` adalah memberikan informasi jumlah instalasi, namun nyatanya, informasi ini tidak sepenuhnya spesifik. Nilai yang diberikan kurang lebih berupa rentang 1+, 5+, 10+, 100+, 1000+, dst.\n",
    "\n",
    "Oleh sebab itu penghitungan akan dilakukan terhadap batas bawah yang berarti data 1000+ akan dibaca sebesar 1000."
   ]
  },
  {
   "cell_type": "code",
   "execution_count": 35,
   "metadata": {},
   "outputs": [
    {
     "name": "stdout",
     "output_type": "stream",
     "text": [
      "COMMUNICATION : 38326063.197916664\n",
      "VIDEO_PLAYERS : 27526905.093167704\n",
      "SOCIAL : 23197729.544303797\n",
      "PHOTOGRAPHY : 21763278.547169812\n",
      "PRODUCTIVITY : 19601237.21613833\n",
      "GAME : 15660357.33256351\n",
      "TRAVEL_AND_LOCAL : 13984077.710144928\n",
      "ENTERTAINMENT : 11640705.88235294\n",
      "NEWS_AND_MAGAZINES : 11512785.04\n",
      "TOOLS : 10799259.938829787\n",
      "BOOKS_AND_REFERENCE : 8767811.894736841\n",
      "SHOPPING : 8143816.593137255\n",
      "WEATHER : 5698451.666666667\n",
      "PERSONALIZATION : 5201482.6122448975\n",
      "MAPS_AND_NAVIGATION : 4825879.206349206\n",
      "HEALTH_AND_FITNESS : 4188821.9853479853\n",
      "FAMILY : 3756094.99702558\n",
      "SPORTS : 3643147.9569536424\n",
      "ART_AND_DESIGN : 1986335.0877192982\n",
      "FOOD_AND_DRINK : 1916565.3243243243\n",
      "EDUCATION : 1898571.4285714286\n",
      "BUSINESS : 1830642.3774509805\n",
      "LIFESTYLE : 1437816.2687861272\n",
      "FINANCE : 1398672.1337386018\n",
      "HOUSE_AND_HOME : 1313681.9054054054\n",
      "DATING : 854028.8303030303\n",
      "COMICS : 817657.2727272727\n",
      "AUTO_AND_VEHICLES : 647317.8170731707\n",
      "LIBRARIES_AND_DEMO : 638503.734939759\n",
      "PARENTING : 542603.6206896552\n",
      "BEAUTY : 513151.88679245283\n",
      "EVENTS : 253542.22222222222\n",
      "MEDICAL : 125373.32492113565\n"
     ]
    }
   ],
   "source": [
    "genres_google_store = freq_table(google_store_free, 1)\n",
    "\n",
    "table_installs = {}\n",
    "for genre in genres_google_store:\n",
    "    n_apps = 0\n",
    "    sum_ratings = 0\n",
    "    for app in google_store_free:\n",
    "        app_genre = app[1]\n",
    "        if app_genre == genre:\n",
    "            app_rating = app[5].replace(',','').replace('+','')\n",
    "            app_rating = float(app_rating)\n",
    "            n_apps += 1\n",
    "            sum_ratings += app_rating\n",
    "    table_installs[genre] = sum_ratings/n_apps\n",
    "\n",
    "table_display = []\n",
    "for key in table_installs:\n",
    "    key_val_as_tuple = (table_installs[key], key)\n",
    "    table_display.append(key_val_as_tuple)\n",
    "\n",
    "table_sorted = sorted(table_display, reverse = True)\n",
    "for entry in table_sorted:\n",
    "    print(entry[1], ':', entry[0])"
   ]
  },
  {
   "cell_type": "code",
   "execution_count": 38,
   "metadata": {},
   "outputs": [
    {
     "name": "stdout",
     "output_type": "stream",
     "text": [
      "All Video Downloader 2018 : 1,000,000+\n",
      "HD Video Player : 1,000,000+\n",
      "Iqiyi (for tablet) : 1,000,000+\n",
      "Motorola Gallery : 100,000,000+\n",
      "Free TV series : 100,000+\n",
      "Video Player All Format for Android : 500,000+\n",
      "Code : 10,000,000+\n",
      "Vote for : 50,000,000+\n",
      "XX HD Video downloader-Free Video Downloader : 1,000,000+\n",
      "OBJECTIVE : 1,000,000+\n",
      "Music - Mp3 Player : 10,000,000+\n",
      "HD Movie Video Player : 1,000,000+\n",
      "YouCut - Video Editor & Video Maker, No Watermark : 5,000,000+\n",
      "Video Editor,Crop Video,Movie Video,Music,Effects : 1,000,000+\n",
      "video player for android : 10,000,000+\n",
      "Google Play Movies & TV : 1,000,000,000+\n",
      "HTC Service － DLNA : 10,000,000+\n",
      "VPlayer : 1,000,000+\n",
      "MiniMovie - Free Video and Slideshow Editor : 50,000,000+\n",
      "Samsung Video Library : 50,000,000+\n",
      "OnePlus Gallery : 1,000,000+\n",
      "LIKE – Magic Video Maker & Community : 50,000,000+\n",
      "HTC Service—Video Player : 5,000,000+\n",
      "Play Tube : 1,000,000+\n",
      "Droid Zap by Motorola : 5,000,000+\n",
      "video player : 1,000,000+\n",
      "G Guide Program Guide (SOFTBANK EMOBILE WILLCOM version) : 1,000,000+\n",
      "Video.Guru - Video Maker : 1,000,000+\n",
      "HTC Gallery : 10,000,000+\n",
      "Video Status : 1,000,000+\n",
      "Video Wallpaper Show : 500+\n",
      "SVT Play : 1,000,000+\n",
      "BluTV : 1,000,000+\n",
      "Tencent Video - Supporting the whole network : 1,000,000+\n",
      "Casper Ssinema : 10,000+\n",
      "amazer - Global Kpop Video Community : 100,000+\n",
      "Omlet Arcade - Stream, Meet, Play : 10,000,000+\n",
      "VUE: video editor & camcorder : 1,000,000+\n",
      "Magisto Video Editor & Maker : 10,000,000+\n",
      "Dubsmash : 100,000,000+\n",
      "DU Recorder – Screen Recorder, Video Editor, Live : 50,000,000+\n",
      "KineMaster – Pro Video Editor : 50,000,000+\n",
      "Mobizen Screen Recorder for SAMSUNG : 10,000,000+\n",
      "Mobizen Screen Recorder for LG - Record, Capture : 1,000,000+\n",
      "M-Sight Pro : 5,000+\n",
      "Sketch 'n' go : 100,000+\n",
      "Q-See Plus : 5,000+\n",
      "Ustream : 10,000,000+\n",
      "VMate : 50,000,000+\n",
      "All Video Downloader : 10,000,000+\n",
      "VidPlay : 1,000,000+\n",
      "HD Video Downloader : 2018 Best video mate : 50,000,000+\n",
      "VivaVideo - Video Editor & Photo Movie : 100,000,000+\n",
      "VideoShow-Video Editor, Video Maker, Beauty Camera : 100,000,000+\n",
      "W Box VMS : 10,000+\n",
      "W Box VMS HD : 5,000+\n",
      "AB Repeat Player : 100,000+\n",
      "A-B repeater : 5,000+\n",
      "Ez Screen Recorder (no ad) : 100,000+\n",
      "Adobe Premiere Clip : 5,000,000+\n",
      "FilmoraGo - Free Video Editor : 10,000,000+\n",
      "ActionDirector Video Editor - Edit Videos Fast : 5,000,000+\n",
      "AJ Player : 100+\n",
      "AK Lodi Films : 100+\n",
      "WiFi Baby Monitor - NannyCam : 5,000,000+\n",
      "Ringdroid : 50,000,000+\n",
      "Multiple Videos at Same Time : 1,000,000+\n",
      "AV-IPTV : 1,000+\n",
      "HD Video Player (wmv,avi,mp4,flv,av,mpg,mkv)2017 : 10,000+\n",
      "HD Video Player - Video & MP3 Player | AV Player | : 5,000+\n",
      "EML UPnP-AV Control Point : 10,000+\n",
      "AW Screen Recorder No Root : 100,000+\n",
      "AX Player -Nougat Video Player : 1,000,000+\n",
      "AX Video Player : 50,000+\n",
      "Ay : 5,000+\n",
      "Ay Sabz Gunbad Waly : 1,000+\n",
      "iMediaShare – Photos & Music : 10,000,000+\n",
      "AZ Screen Recorder - No Root : 10,000,000+\n",
      "Movie Downloader Torrent : Az Torrent : 1,000+\n",
      "A-Z Screen Recorder - : 500+\n",
      "BC iptv player : 1,000+\n",
      "Bc Vod : 100+\n",
      "Funny videos for whatsapp : 1,000,000+\n",
      "BG video - floating video - background video : 5,000+\n",
      "BG MUSIC PLAYER - MUSIC PLAYER : 100+\n",
      "bgtime.tv : 50,000+\n",
      "YourTube Video Views BG : 500+\n",
      "Music for Youtube - Tube Music BG, Red+ : 1,000+\n",
      "BGCN TV : 100,000+\n",
      "AfreecaTV : 10,000,000+\n",
      "BK News Channel : 10,000+\n",
      "BR Video Player : 5,000+\n",
      "BR Series : 50,000+\n",
      "CINE BR : 1,000+\n",
      "iPlayIT for YouTube VR Player : 1,000,000+\n",
      "BSPlayer FREE : 10,000,000+\n",
      "BSPlayer ARMv7 VFP CPU support : 1,000,000+\n",
      "BS player remote : 10,000+\n",
      "BitTorrent®- Torrent Downloads : 10,000,000+\n",
      "Bx-WiFi-GI : 100+\n",
      "BZ Langenthaler Tagblatt : 1,000+\n",
      "Nero AirBurn : 100,000+\n",
      "CI Stream : 10+\n",
      "CJ Camcorder : 500+\n",
      "CJ VLC HD Remote (+ Stream) : 500,000+\n",
      "ACTIVEON CX & CX GOLD : 50,000+\n",
      "CX Monthly Tech News : 500+\n",
      "DG UPnP Player Free : 10,000+\n",
      "DG Screen Recorder : 500+\n",
      "DG Video Editor : 10,000+\n",
      "Video Downloader - for Instagram Repost App : 10,000,000+\n",
      "Quik – Free Video Editor for photos, clips, music : 10,000,000+\n",
      "FrostWire: Torrent Downloader & Music Player : 10,000,000+\n",
      "Inst Download - Video & Photo : 10,000,000+\n",
      "Vuze Torrent Downloader : 1,000,000+\n",
      "AndStream - Streaming Download : 1,000,000+\n",
      "DR TV : 500,000+\n",
      "DS photo : 1,000,000+\n",
      "DS video : 1,000,000+\n",
      "DU Privacy-hide apps、sms、file : 1,000,000+\n",
      "iSmart DV : 1,000,000+\n",
      "dv Prompter : 50,000+\n",
      "DV Lottery Photo : 5,000+\n",
      "MelifeCam-M : 10,000+\n",
      "GoPlus Cam : 500,000+\n",
      "GoAction : 100,000+\n",
      "4K VIDEO PLAYER ULTRA HD : 5,000+\n",
      "Downvids Helper - One touch DW : 10,000+\n",
      "DZ Popup Video Player : 5,000+\n",
      "EC MANAGER : 100+\n",
      "EF Sidekick : 5,000+\n",
      "ek tuhi : 10,000+\n",
      "Naruto Shippuden - Watch Free! : 10,000,000+\n",
      "ES Audio Player ( Shortcut ) : 100,000+\n",
      "Furrion ES Control : 5,000+\n",
      "ES-IPTV : 50,000+\n",
      "EZCast – Cast Media to TV : 1,000,000+\n",
      "EZ Web Video Cast | Chromecast : 100,000+\n",
      "EZ-SEE : 10,000+\n",
      "EZ TV Player : 10,000+\n",
      "EZ Usenet for Easynews® : 10,000+\n",
      "EZ game screen recorder with audio 1080P : 1,000+\n",
      "Videos downloader for Facebook:fast fb video saver : 5,000+\n",
      "Video Downloader for FB : Video Download with Link : 100,000+\n",
      "HD VideoDownlaoder For Fb : XXVideo Downloader : 10,000+\n",
      "HD Video Download for Facebook : 1,000,000+\n",
      "Art of F J Taylor : 10+\n",
      "List iptv FR : 100+\n",
      "Video Editor : 5,000,000+\n",
      "YouTube : 1,000,000,000+\n",
      "Video Downloader : 10,000,000+\n",
      "Motorola FM Radio : 100,000,000+\n",
      "Video Player All Format : 10,000,000+\n",
      "VLC for Android : 100,000,000+\n",
      "YouTube Studio : 10,000,000+\n",
      "Vigo Video : 50,000,000+\n",
      "PowerDirector Video Editor App: 4K, Slow Mo & More : 10,000,000+\n",
      "Cartoon Network App : 10,000,000+\n",
      "MX Player : 500,000,000+\n",
      "MX Player : 500,000,000+\n",
      "Video Editor : 100,000+\n"
     ]
    }
   ],
   "source": [
    "for app in google_store_free:\n",
    "    if app[1] == 'COMMUNICATION':\n",
    "        # cetak nama dan jumlah instalasi\n",
    "        print(app[0], ':', app[5]) "
   ]
  },
  {
   "cell_type": "markdown",
   "metadata": {},
   "source": [
    "* Pada kategori urutan pertama, COMMUNICATION diisi oleh beragam aplikasi dan nampaknya pola dominasi perusahaan besar seperti Facebook dan Google juga terjadi di sini. Aplikasi WhatsApp sendiri telah mencatat lebih dari 1 miliar instalasi.\n",
    "* Urutan kedua terdapat kategori VIDEO_PLAYERS dan memiliki pola serupa dengan kategori COMMUNICATION karena di dalamnya didominasi oleh Google maupun Youtube.\n",
    "\n",
    "Kategori PRODUCTIVITY cukup meraih urutan tinggi, sangat kontras dibandingkan pada platform App Store. Jika ditelusuri akan terdapat banyak sekali aplikasi di dalamnya. Mari kita amati lebih jauh."
   ]
  },
  {
   "cell_type": "code",
   "execution_count": 37,
   "metadata": {},
   "outputs": [
    {
     "name": "stdout",
     "output_type": "stream",
     "text": [
      "All-In-One Toolbox: Cleaner, Booster, App Manager : 10,000,000+\n",
      "AVG Cleaner – Speed, Battery & Memory Booster : 10,000,000+\n",
      "My Claro Peru : 5,000,000+\n",
      "Power Booster - Junk Cleaner & CPU Cooler & Boost : 1,000,000+\n",
      "Google Assistant : 10,000,000+\n",
      "Calculator - unit converter : 50,000,000+\n",
      "Metro name iD : 10,000,000+\n",
      "Archos File Manager : 5,000,000+\n",
      "ASUS SuperNote : 10,000,000+\n",
      "HTC File Manager : 10,000,000+\n",
      "MyMTN : 1,000,000+\n",
      "ASUS Quick Memo : 10,000,000+\n",
      "HTC Calendar : 10,000,000+\n",
      "ASUS Calling Screen : 10,000,000+\n",
      "lifebox : 5,000,000+\n",
      "Yandex.Disk : 5,000,000+\n",
      "Content Transfer : 5,000,000+\n",
      "HTC Mail : 10,000,000+\n",
      "Advanced Task Killer : 50,000,000+\n",
      "MyVodafone (India) - Online Recharge & Pay Bills : 10,000,000+\n",
      "Microsoft Translator : 5,000,000+\n",
      "My Airtel-Online Recharge, Pay Bill, Wallet, UPI : 50,000,000+\n",
      "Samsung Notes : 100,000,000+\n",
      "Verizon Cloud : 50,000,000+\n",
      "SwiftKey Keyboard : 100,000,000+\n",
      "Hacker's Keyboard : 1,000,000+\n",
      "Security & Privacy : 1,000,000+\n",
      "7 Weeks - Habit & Goal Tracker : 500,000+\n",
      "Loop - Habit Tracker : 1,000,000+\n",
      "Keeper: Free Password Manager & Secure Vault : 10,000,000+\n",
      "Pushbullet - SMS on PC : 1,000,000+\n",
      "Cozi Family Organizer : 1,000,000+\n",
      "IFTTT : 1,000,000+\n",
      "Trello : 5,000,000+\n",
      "Easy Voice Recorder : 10,000,000+\n",
      "Dashlane Free Password Manager : 1,000,000+\n",
      "Solid Explorer Classic : 1,000,000+\n",
      "File Browser by Astro (File Manager) : 50,000,000+\n",
      "File Explorer : 100,000+\n",
      "The Maner : 5,000,000+\n",
      "AndroZip™ FREE File Manager : 10,000,000+\n",
      "Solid Explorer File Manager : 1,000,000+\n",
      "Smart File Manager : 1,000,000+\n",
      "Google Slides : 100,000,000+\n",
      "Note Everything : 5,000,000+\n",
      "Simple Notepad : 1,000,000+\n",
      "Keep My Notes - Notepad & Memo : 5,000,000+\n",
      "Sticky Note + : Sync Notes : 1,000,000+\n",
      "Notepad : 10,000,000+\n",
      "Squid - Take Notes & Markup PDFs : 1,000,000+\n",
      "Ultimate Notepad : 5,000,000+\n",
      "JotterPad - Writer, Screenplay, Novel : 1,000,000+\n",
      "Planning Center Services : 500,000+\n",
      "Calendar+ Schedule Planner App : 1,000,000+\n",
      "Today Calendar 2017 : 1,000,000+\n",
      "New Calendar : 1,000,000+\n",
      "Calendar Widget Month + Agenda : 5,000,000+\n",
      "DigiCal Calendar Agenda : 5,000,000+\n",
      "Time Recording - Timesheet App : 1,000,000+\n",
      "Jorte Calendar & Organizer : 10,000,000+\n",
      "Business Calendar 2 : 5,000,000+\n",
      "aCalendar - Android Phone : 10,000,000+\n",
      "Unclouded - Cloud Manager : 100,000+\n",
      "Amazon Drive : 1,000,000+\n",
      "SugarSync : 1,000,000+\n",
      "pCloud: Free Cloud Storage : 1,000,000+\n",
      "MediaFire : 5,000,000+\n",
      "Cloud Print : 500,000,000+\n",
      "Fake Call - Fake Caller ID : 10,000,000+\n",
      "AutoCAD - DWG Viewer & Editor : 10,000,000+\n",
      "Alt-C : 10,000+\n",
      "My C Spire : 50,000+\n",
      "Mobile Security & Antivirus : 10,000,000+\n",
      "EX File Explorer File Manager : 1,000,000+\n",
      "EBookDroid - PDF & DJVU Reader : 5,000,000+\n",
      "Inputting Plus: Ctrl + Z/F/C/V : 50,000+\n",
      "CTRL-F - Search the real world : 50,000+\n",
      "Larry H Miller Automotive : 10,000+\n",
      "Add-On: Alcatel (h) : 50,000+\n",
      "J. Polep Plus Mobile : 100+\n",
      "K-App Mitarbeiter Galeria Kaufhof : 100+\n",
      "Calculator L : 100,000+\n",
      "Emoji Android L Keyboard : 1,000,000+\n",
      "Mobizen Screen Recorder - Record, Capture, Edit : 50,000,000+\n",
      "Tap N Pay : 10,000+\n",
      "N Files - File Manager & Explorer : 10,000+\n",
      "WiFi-o-Matic : 50,000+\n",
      "Multiling O Keyboard + emoji : 1,000,000+\n",
      "Official QR Code® Reader \"Q\" : 500,000+\n",
      "Q Actions - Digital Assistant : 500+\n",
      "Q Link Wireless Zone : 500,000+\n",
      "R-net for Android : 5,000+\n",
      "Mat|r viewer : 100+\n",
      "S Note : 10,000,000+\n",
      "S’more - Earn Cash Rewards : 1,000,000+\n",
      "SH Script Runner : 50,000+\n",
      "AT&T Mobile Transfer : 10,000,000+\n",
      "T-Mobile Content Transfer : 500,000+\n",
      "Můj T-Mobile Business : 1,000,000+\n",
      "U Assist - Screen Mirroring & Sharing App : 50,000+\n",
      "U+Box : 10,000,000+\n",
      "NQ Mobile Security & Antivirus : 10,000,000+\n",
      "Air Conditioner Maintenance : 5,000+\n",
      "Remote Control For All AC - Universal Remote : 10,000+\n",
      "Ad Detect Plugin - Handy Tool : 500,000+\n",
      "Safe Notes - Secure Ad-free notepad : 50,000+\n",
      "Adblock Fast : 1,000,000+\n",
      "Google AdSense : 1,000,000+\n",
      "Best Applock - Locker & No Ads : 100,000+\n",
      "TIMBER AD FILTER - Very useful ad block app : 100,000+\n",
      "ESS Mobile for AE : 5,000+\n",
      "Trimble Ag Mobile : 10,000+\n",
      "Ag PhD Soils : 1,000+\n",
      "Ag Trucking Mobile App : 100+\n",
      "Ag Guardian : 100+\n",
      "My Ag Report : 50+\n",
      "Mix Tank – Tank Mixing Ag App : 10,000+\n",
      "Extreme- Personal Voice Assistant : 1,000,000+\n",
      "Puck AI Personal Assistant Robot : 1,000+\n",
      "Builder (by Engineer.ai) : 100+\n",
      "Friday: Smart Personal Assistant : 100,000+\n",
      "Lyra Virtual Assistant : 1,000,000+\n",
      "ai.Bot Box : 10,000+\n",
      "MiAI (Artificial Intelligence) Assistant : 100+\n",
      "Turbo AI™ - Personal assistant : 5,000+\n",
      "AI Sight : 1,000+\n",
      "AL Voice Recorder : 1,000,000+\n",
      "AP ENPS Mobile : 5,000+\n",
      "AQ Guards : 10+\n",
      "QR Droid : 50,000,000+\n",
      "Mind Map AR, Augmented Reality ARCore Mind Mapping : 5,000+\n",
      "PDF Viewer & Book Reader : 5,000,000+\n",
      "Alarm Clock: Stopwatch & Timer : 50,000,000+\n",
      "Total AV : 100,000+\n",
      "Mobile Security: Antivirus, Web Scan & App Lock : 10,000,000+\n",
      "Professional AV Solution & Products information : 1,000+\n",
      "Bits Watch Face : 100,000+\n",
      "Tips Microsoft Dynamics Ax : 500+\n",
      "Tips & Tricks Dynamics AX 365 : 100+\n",
      "A-Z App Store : 500,000+\n",
      "BA Calculator : 5,000+\n",
      "Town of Princeton, BC : 100+\n",
      "Electricity Bill Calculator BD : 10,000+\n",
      "BD Attendance : 1,000+\n",
      "BD Field Force : 1,000+\n",
      "BG+Phone Backup : 1,000+\n",
      "ALL-IN-ONE PACKAGE TRACKING : 1,000,000+\n",
      "MinT BI : 10+\n",
      "BJ Memo Widget : 50,000+\n",
      "SKIN BK : 10+\n",
      "BM Interventi : 10+\n",
      "BAMMS for BM 1Park : 50+\n",
      "BAMMS for BM SQ : 10+\n",
      "BN Inscript Improved Input keyboard : 10+\n",
      "Calendars (En, Bn, Ar) : 1,000+\n",
      "BN DB1 App : 50+\n",
      "BN Inscript Improved Keyboard : 10+\n",
      "Add-On: bq (a) : 5,000+\n",
      "Add-On: bq (c) : 1,000+\n",
      "Add-On: bq (b) : 1,000+\n",
      "BV Mobile Apps : 100+\n",
      "BW Ultra : 10+\n",
      "BW-IVMS : 100+\n",
      "IP address BW : 500+\n",
      "BW t&t : 10+\n",
      "BZ Dealer : 500+\n",
      "CA World '17 : 1,000+\n",
      "Register.ca Mobile : 100+\n",
      "CD Library : 10,000+\n",
      "APagri CD : 10+\n",
      "CE SODEXO PASS FRANCE : 50+\n",
      "ACCEPT CE MARKING : 10+\n",
      "CG - Calendars Add-On : 5,000+\n",
      "CG - Conference Call Add-On : 1,000+\n",
      "Somos CG : 100+\n",
      "My CG : 10+\n",
      "Chrome Canary (Unstable) : 1,000,000+\n",
      "CI Remote for Go : 100+\n",
      "IQ Test : 100,000+\n",
      "Thistletown CI : 100+\n",
      "CI Time : 100+\n",
      "CircleCI Viewer : 1,000+\n",
      "CI CAFETERIAS UBER : 100+\n",
      "CJ'S TIRE AND AUTO INC. : 100+\n",
      "Commission Manager : 1,000+\n",
      "CJ Wilson's ZoomZoomnation : 500+\n",
      "Inch/cm/Foot Conversion : 100,000+\n",
      "cm, mm to inch, feet converter tool : 100,000+\n",
      "Krypton by krypt.co : 1,000+\n",
      "Fayr - Co-Parenting Simplified : 1,000+\n",
      "CP Connect 2.0 : 500+\n",
      "CQ Ukraine : 10+\n",
      "CQ Electrical Group : 1+\n",
      "iReadMe : 100+\n",
      "Ultimate Calculator for CR : 500,000+\n",
      "Ultimate Chest Tracker : 1,000,000+\n",
      "CamScanner - Phone PDF Creator : 100,000,000+\n",
      "Bomb and Nade Timer for CS:GO : 5,000+\n",
      "Solar CT PV System Power : 10,000+\n",
      "CT CONNECT : 50+\n",
      "My CU - Caucasus University : 1,000+\n",
      "Resume & CV Creator by Desygner : 5,000+\n",
      "Resume Builder and CV maker app : 100,000+\n",
      "Resume Free : 1,000,000+\n",
      "Curriculum Vitae - Resume CV : 10,000+\n",
      "Pocket RxTx Free : 100,000+\n",
      "Cx Wize : 100+\n",
      "CONNECT: The Mobile CX Summit : 50+\n",
      "CX Summit : 50+\n",
      "CY Security Antivirus Cleaner : 1,000,000+\n",
      "Phone Clean Best Speed Booster : 1,000,000+\n",
      "LOCX Applock Lock Apps & Photo : 10,000,000+\n",
      "RoutePlan.cz : 100+\n",
      "DB Manager : 1,000+\n",
      "DF-Server Mobile : 100+\n",
      "DG Report Reminder : 10,000+\n",
      "DG Phone Call Task Switcher : 1,000+\n",
      "DG Users : 100+\n",
      "e-Boks.dk : 1,000,000+\n",
      "Download Manager Pro FREE : 100,000+\n",
      "Trimble DL : 10,000+\n",
      "IDM Internet Download Manager : 100,000+\n",
      "Shaggy's DM Assistant : 5+\n",
      "DN Events : 500+\n",
      "WFVS 2018 | WhatApp Full Video Status & Downloader : 50,000+\n",
      "Mahalaxmi Dindarshika 2018 : 1,000,000+\n",
      "Microsoft To-Do: List, Task & Reminder : 1,000,000+\n",
      "To Do List : 5,000,000+\n",
      "To Do Reminder with Alarm : 1,000,000+\n",
      "Ike - To-Do List, Task List : 100,000+\n",
      "My Effectiveness: To do, Tasks : 500,000+\n",
      "Do it (Tomorrow) : 1,000,000+\n",
      "Do Not Disturb : 100,000+\n",
      "To-Do List Widget : 1,000,000+\n",
      "NoteToDo. Notes. To do list : 1,000,000+\n",
      "Memory Helper - To do list, Notepad, Notes, Memo : 500,000+\n",
      "2Do - Reminders, To-do List & Notes : 100,000+\n",
      "Time Planner - Schedule, To-Do List, Time Tracker : 500,000+\n",
      "MyLifeOrganized: To-Do List : 100,000+\n",
      "Cal - Google Calendar + Widget : 1,000,000+\n",
      "Clean My House – Chore To Do List, Task Scheduler : 100,000+\n",
      "Goal Meter: Goal Tracker, Habit Changer,To-Do List : 100,000+\n",
      "To-do list : 50,000+\n",
      "Adobe Fill & Sign: Easy PDF Form Filler : 1,000,000+\n",
      "Dr.Android Repair Master 2017 : 100,000+\n",
      "DS file : 1,000,000+\n",
      "DS note : 100,000+\n",
      "DS cam : 500,000+\n",
      "Synology Drive : 100,000+\n",
      "DS-20000S : 1,000+\n",
      "DT Manager : 500+\n",
      "DT Freight : 1+\n",
      "Clean My Android : 5,000,000+\n",
      "APUS Booster - Space Cleaner & Booster : 10,000,000+\n",
      "DV Web Design Tips : 10+\n",
      "Dz Dinars Numbers to letters : 100,000+\n",
      "Numbers Into Words : 50,000+\n",
      "DZ Register : 1+\n",
      "Epson iProjection : 1,000,000+\n",
      "EB Scanner : 50+\n",
      "Exército Brasileiro : 100,000+\n",
      "ec-Work : 100+\n",
      "New Holland Agriculture T5 EC : 1,000+\n",
      "EC Taximeter : 10,000+\n",
      "EC QR : 10+\n",
      "EC Sampler : 1+\n",
      "SCS eC : 100+\n",
      "EF Staff : 100+\n",
      "EF Calculator : 1,000+\n",
      "eG Monitor : 100+\n",
      "EG : 100+\n",
      "EI! : 10+\n",
      "Sai Baba - Sabka Malik Ek : 1,000+\n",
      "Ek Vote : 500+\n",
      "Ginger Keyboard - Emoji, GIFs, Themes & Games : 5,000,000+\n",
      "EP Home Energy Hub : 100+\n",
      "EP Cloud : 10+\n",
      "ER Assist : 10+\n",
      "ES Disk Analyzer - Storage Space : 100,000+\n",
      "ES Material Theme for Pro : 1,000,000+\n",
      "ES Holo Theme for Pro : 500,000+\n",
      "ES Billing System (Offline App) : 100+\n",
      "ESLock File Recovery Lite : 50,000+\n",
      "iTranslate Translator & Dictionary : 10,000,000+\n",
      "EU Economy : 5,000+\n",
      "Eurostat Country Profiles : 10,000+\n",
      "EU Brazil Green Business Forum : 10+\n",
      "Simple EV Calc : 1,000+\n",
      "EY Team Connect : 50+\n",
      "EY ATL Fuel Calculator : 500+\n",
      "EY Events Switzerland : 500+\n",
      "EZ Inspections : 10,000+\n",
      "EZ Display : 50,000+\n",
      "EZ File Manager(Root Explorer) : 100,000+\n",
      "EZ Notes Lite : 1,000+\n",
      "EZ Switch Widget : 100,000+\n",
      "MultiMessage for FB Messenger : 50,000+\n",
      "IDM for Facebook ★ Downloader : 100,000+\n",
      "Chelsea FC Official Keyboard : 1,000,000+\n",
      "Avast Wi-Fi Finder : 1,000,000+\n",
      "Safe Wi-Fi : 1,000+\n",
      "Wi-Fi Networks : 10,000+\n",
      "Fast Notes FJ : 500+\n",
      "FK Events : 5+\n",
      "Charlotte County, FL : 1,000+\n",
      "FL House : 1,000+\n",
      "Florida Cooling Supply HVAC : 500+\n",
      "Fort Myers FL : 100+\n",
      "MY GULFPORT FL : 50+\n",
      "Future Cloud : 100,000+\n",
      "FQ METER : 1,000+\n",
      "PLMGSS FR : 10+\n",
      "Microsoft Word : 500,000,000+\n",
      "Adobe Acrobat Reader : 100,000,000+\n",
      "Google Drive : 1,000,000,000+\n",
      "QR Scanner & Barcode Scanner 2018 : 10,000,000+\n",
      "Chrome Beta : 10,000,000+\n",
      "Microsoft Outlook : 100,000,000+\n",
      "Google PDF Viewer : 10,000,000+\n",
      "Microsoft Excel : 100,000,000+\n",
      "Microsoft OneDrive : 100,000,000+\n",
      "Microsoft OneNote : 100,000,000+\n",
      "Google Keep : 100,000,000+\n",
      "ES File Explorer File Manager : 100,000,000+\n",
      "Dropbox : 500,000,000+\n",
      "Google Calendar : 500,000,000+\n",
      "Google Docs : 100,000,000+\n",
      "Evernote – Organizer, Planner for Notes & Memos : 100,000,000+\n",
      "Microsoft PowerPoint : 100,000,000+\n",
      "Do It Later: Tasks & To-Dos : 50,000,000+\n",
      "myAT&T : 50,000,000+\n",
      "MEGA : 50,000,000+\n",
      "TickTick: To Do List with Reminder, Day Planner : 1,000,000+\n",
      "Wunderlist: To-Do List & Tasks : 10,000,000+\n",
      "Planner Pro-Personal Organizer : 1,000,000+\n",
      "Todoist: To-do lists for task management & errands : 10,000,000+\n",
      "Any.do: To-do list, Calendar, Reminders & Planner : 10,000,000+\n",
      "CM FILE MANAGER HD : 10,000,000+\n",
      "Google Sheets : 100,000,000+\n",
      "Polaris Office - Word, Docs, Sheets, Slide, PDF : 10,000,000+\n",
      "WPS Office - Word, Docs, PDF, Note, Slide & Sheet : 100,000,000+\n",
      "ColorNote Notepad Notes : 100,000,000+\n",
      "Notepad & To do list : 10,000,000+\n",
      "To-Do Calendar Planner : 1,000,000+\n",
      "G Cloud Backup : 5,000,000+\n",
      "Google Drive : 1,000,000,000+\n",
      "Chrome Beta : 10,000,000+\n"
     ]
    }
   ],
   "source": [
    "for app in google_store_free:\n",
    "    if app[1] == 'PRODUCTIVITY':\n",
    "        # cetak nama dan jumlah instalasi\n",
    "        print(app[0], ':', app[5]) "
   ]
  },
  {
   "cell_type": "markdown",
   "metadata": {},
   "source": [
    "Terdapat beragam aplikasi yang sebenarnya masih dapat dibagi dan dikelompokkan pada kategori lebih spesifik. Secara garis besar ragram aplikasi terdiri dari aplikasi pemrosesan text dan dokumen, aplikasi _file storing_ seperti Google Drive, perangkat multifungsi seperti QR Reader, alarm hingga _planner_."
   ]
  },
  {
   "cell_type": "code",
   "execution_count": 41,
   "metadata": {},
   "outputs": [
    {
     "name": "stdout",
     "output_type": "stream",
     "text": [
      "Samsung Notes : 100,000,000+\n",
      "SwiftKey Keyboard : 100,000,000+\n",
      "Google Slides : 100,000,000+\n",
      "Cloud Print : 500,000,000+\n",
      "CamScanner - Phone PDF Creator : 100,000,000+\n",
      "Microsoft Word : 500,000,000+\n",
      "Adobe Acrobat Reader : 100,000,000+\n",
      "Google Drive : 1,000,000,000+\n",
      "Microsoft Outlook : 100,000,000+\n",
      "Microsoft Excel : 100,000,000+\n",
      "Microsoft OneDrive : 100,000,000+\n",
      "Microsoft OneNote : 100,000,000+\n",
      "Google Keep : 100,000,000+\n",
      "ES File Explorer File Manager : 100,000,000+\n",
      "Dropbox : 500,000,000+\n",
      "Google Calendar : 500,000,000+\n",
      "Google Docs : 100,000,000+\n",
      "Evernote – Organizer, Planner for Notes & Memos : 100,000,000+\n",
      "Microsoft PowerPoint : 100,000,000+\n",
      "Google Sheets : 100,000,000+\n",
      "WPS Office - Word, Docs, PDF, Note, Slide & Sheet : 100,000,000+\n",
      "ColorNote Notepad Notes : 100,000,000+\n",
      "Google Drive : 1,000,000,000+\n"
     ]
    }
   ],
   "source": [
    "for app in google_store_free:\n",
    "    if app[1] == 'PRODUCTIVITY' and (app[5] == '1,000,000,000+'\n",
    "                                            or app[5] == '500,000,000+'\n",
    "                                            or app[5] == '100,000,000+'):\n",
    "        print(app[0], ':', app[5])"
   ]
  },
  {
   "cell_type": "code",
   "execution_count": 43,
   "metadata": {},
   "outputs": [
    {
     "name": "stdout",
     "output_type": "stream",
     "text": [
      "All-In-One Toolbox: Cleaner, Booster, App Manager : 10,000,000+\n",
      "AVG Cleaner – Speed, Battery & Memory Booster : 10,000,000+\n",
      "My Claro Peru : 5,000,000+\n",
      "Power Booster - Junk Cleaner & CPU Cooler & Boost : 1,000,000+\n",
      "Google Assistant : 10,000,000+\n",
      "Calculator - unit converter : 50,000,000+\n",
      "Metro name iD : 10,000,000+\n",
      "Archos File Manager : 5,000,000+\n",
      "ASUS SuperNote : 10,000,000+\n",
      "HTC File Manager : 10,000,000+\n",
      "MyMTN : 1,000,000+\n",
      "ASUS Quick Memo : 10,000,000+\n",
      "HTC Calendar : 10,000,000+\n",
      "ASUS Calling Screen : 10,000,000+\n",
      "lifebox : 5,000,000+\n",
      "Yandex.Disk : 5,000,000+\n",
      "Content Transfer : 5,000,000+\n",
      "HTC Mail : 10,000,000+\n",
      "Advanced Task Killer : 50,000,000+\n",
      "MyVodafone (India) - Online Recharge & Pay Bills : 10,000,000+\n",
      "Microsoft Translator : 5,000,000+\n",
      "My Airtel-Online Recharge, Pay Bill, Wallet, UPI : 50,000,000+\n",
      "Verizon Cloud : 50,000,000+\n",
      "Hacker's Keyboard : 1,000,000+\n",
      "Security & Privacy : 1,000,000+\n",
      "Loop - Habit Tracker : 1,000,000+\n",
      "Keeper: Free Password Manager & Secure Vault : 10,000,000+\n",
      "Pushbullet - SMS on PC : 1,000,000+\n",
      "Cozi Family Organizer : 1,000,000+\n",
      "IFTTT : 1,000,000+\n",
      "Trello : 5,000,000+\n",
      "Easy Voice Recorder : 10,000,000+\n",
      "Dashlane Free Password Manager : 1,000,000+\n",
      "Solid Explorer Classic : 1,000,000+\n",
      "File Browser by Astro (File Manager) : 50,000,000+\n",
      "The Maner : 5,000,000+\n",
      "AndroZip™ FREE File Manager : 10,000,000+\n",
      "Solid Explorer File Manager : 1,000,000+\n",
      "Smart File Manager : 1,000,000+\n",
      "Note Everything : 5,000,000+\n",
      "Simple Notepad : 1,000,000+\n",
      "Keep My Notes - Notepad & Memo : 5,000,000+\n",
      "Sticky Note + : Sync Notes : 1,000,000+\n",
      "Notepad : 10,000,000+\n",
      "Squid - Take Notes & Markup PDFs : 1,000,000+\n",
      "Ultimate Notepad : 5,000,000+\n",
      "JotterPad - Writer, Screenplay, Novel : 1,000,000+\n",
      "Calendar+ Schedule Planner App : 1,000,000+\n",
      "Today Calendar 2017 : 1,000,000+\n",
      "New Calendar : 1,000,000+\n",
      "Calendar Widget Month + Agenda : 5,000,000+\n",
      "DigiCal Calendar Agenda : 5,000,000+\n",
      "Time Recording - Timesheet App : 1,000,000+\n",
      "Jorte Calendar & Organizer : 10,000,000+\n",
      "Business Calendar 2 : 5,000,000+\n",
      "aCalendar - Android Phone : 10,000,000+\n",
      "Amazon Drive : 1,000,000+\n",
      "SugarSync : 1,000,000+\n",
      "pCloud: Free Cloud Storage : 1,000,000+\n",
      "MediaFire : 5,000,000+\n",
      "Fake Call - Fake Caller ID : 10,000,000+\n",
      "AutoCAD - DWG Viewer & Editor : 10,000,000+\n",
      "Mobile Security & Antivirus : 10,000,000+\n",
      "EX File Explorer File Manager : 1,000,000+\n",
      "EBookDroid - PDF & DJVU Reader : 5,000,000+\n",
      "Emoji Android L Keyboard : 1,000,000+\n",
      "Mobizen Screen Recorder - Record, Capture, Edit : 50,000,000+\n",
      "Multiling O Keyboard + emoji : 1,000,000+\n",
      "S Note : 10,000,000+\n",
      "S’more - Earn Cash Rewards : 1,000,000+\n",
      "AT&T Mobile Transfer : 10,000,000+\n",
      "Můj T-Mobile Business : 1,000,000+\n",
      "U+Box : 10,000,000+\n",
      "NQ Mobile Security & Antivirus : 10,000,000+\n",
      "Adblock Fast : 1,000,000+\n",
      "Google AdSense : 1,000,000+\n",
      "Extreme- Personal Voice Assistant : 1,000,000+\n",
      "Lyra Virtual Assistant : 1,000,000+\n",
      "AL Voice Recorder : 1,000,000+\n",
      "QR Droid : 50,000,000+\n",
      "PDF Viewer & Book Reader : 5,000,000+\n",
      "Alarm Clock: Stopwatch & Timer : 50,000,000+\n",
      "Mobile Security: Antivirus, Web Scan & App Lock : 10,000,000+\n",
      "ALL-IN-ONE PACKAGE TRACKING : 1,000,000+\n",
      "Chrome Canary (Unstable) : 1,000,000+\n",
      "Ultimate Chest Tracker : 1,000,000+\n",
      "Resume Free : 1,000,000+\n",
      "CY Security Antivirus Cleaner : 1,000,000+\n",
      "Phone Clean Best Speed Booster : 1,000,000+\n",
      "LOCX Applock Lock Apps & Photo : 10,000,000+\n",
      "e-Boks.dk : 1,000,000+\n",
      "Mahalaxmi Dindarshika 2018 : 1,000,000+\n",
      "Microsoft To-Do: List, Task & Reminder : 1,000,000+\n",
      "To Do List : 5,000,000+\n",
      "To Do Reminder with Alarm : 1,000,000+\n",
      "Do it (Tomorrow) : 1,000,000+\n",
      "To-Do List Widget : 1,000,000+\n",
      "NoteToDo. Notes. To do list : 1,000,000+\n",
      "Cal - Google Calendar + Widget : 1,000,000+\n",
      "Adobe Fill & Sign: Easy PDF Form Filler : 1,000,000+\n",
      "DS file : 1,000,000+\n",
      "Clean My Android : 5,000,000+\n",
      "APUS Booster - Space Cleaner & Booster : 10,000,000+\n",
      "Epson iProjection : 1,000,000+\n",
      "Ginger Keyboard - Emoji, GIFs, Themes & Games : 5,000,000+\n",
      "ES Material Theme for Pro : 1,000,000+\n",
      "iTranslate Translator & Dictionary : 10,000,000+\n",
      "Chelsea FC Official Keyboard : 1,000,000+\n",
      "Avast Wi-Fi Finder : 1,000,000+\n",
      "QR Scanner & Barcode Scanner 2018 : 10,000,000+\n",
      "Chrome Beta : 10,000,000+\n",
      "Google PDF Viewer : 10,000,000+\n",
      "Do It Later: Tasks & To-Dos : 50,000,000+\n",
      "myAT&T : 50,000,000+\n",
      "MEGA : 50,000,000+\n",
      "TickTick: To Do List with Reminder, Day Planner : 1,000,000+\n",
      "Wunderlist: To-Do List & Tasks : 10,000,000+\n",
      "Planner Pro-Personal Organizer : 1,000,000+\n",
      "Todoist: To-do lists for task management & errands : 10,000,000+\n",
      "Any.do: To-do list, Calendar, Reminders & Planner : 10,000,000+\n",
      "CM FILE MANAGER HD : 10,000,000+\n",
      "Polaris Office - Word, Docs, Sheets, Slide, PDF : 10,000,000+\n",
      "Notepad & To do list : 10,000,000+\n",
      "To-Do Calendar Planner : 1,000,000+\n",
      "G Cloud Backup : 5,000,000+\n",
      "Chrome Beta : 10,000,000+\n"
     ]
    }
   ],
   "source": [
    "for app in google_store_free:\n",
    "    if app[1] == 'PRODUCTIVITY' and (app[5] == '1,000,000+'\n",
    "                                            or app[5] == '5,000,000+'\n",
    "                                            or app[5] == '10,000,000+'\n",
    "                                            or app[5] == '50,000,000+'):\n",
    "        print(app[0], ':', app[5])"
   ]
  },
  {
   "cell_type": "markdown",
   "metadata": {},
   "source": [
    "## Kesimpulan \n",
    "\n",
    "Tipikal aplikasi produktivitas dapat menghasilkan waktu _engagement_ yang cukup besar bagi para pengguna. Sebagai contoh adalah aplikasi _study companion_ yang membantu penggunanya fokus dan komitmen belajar tanpa dapat mengakses aplikasi lain pada gawai mereka selama beberapa waktu yang dapat diatur secara bebas. \n",
    "\n",
    "Jika dengan menampilkan iklan yang mengandung video dan suara mungkin dirasa kontradiktif, alternatif monetisasi dapat dilakukan dengan iklan statis berupa banner yang tidak mengganggu.\n",
    "\n",
    "Selain sebagai _study companion_ aplikasi juga dapat membantu penggunanya mengatur jadwal dan mencatat notes untuk menambah waktu _engagement_. Adanya fitur metode belajar seperti pomodoro dapat membantu pengguna untuk lebih fokus. Terlebih di tengah situasi pandemi COVID-19 yang mengharuskan para pelajar untuk dapat memberikan upaya ekstra dan belajar lebih mandiri."
   ]
  }
 ],
 "metadata": {
  "kernelspec": {
   "display_name": "Python 3",
   "language": "python",
   "name": "python3"
  },
  "language_info": {
   "codemirror_mode": {
    "name": "ipython",
    "version": 3
   },
   "file_extension": ".py",
   "mimetype": "text/x-python",
   "name": "python",
   "nbconvert_exporter": "python",
   "pygments_lexer": "ipython3",
   "version": "3.8.3"
  }
 },
 "nbformat": 4,
 "nbformat_minor": 4
}
