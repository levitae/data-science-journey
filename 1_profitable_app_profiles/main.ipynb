{
 "cells": [
  {
   "cell_type": "markdown",
   "metadata": {},
   "source": [
    "# Profitable App Profiles for the Apple App Store and Google Play Markets\n",
    "\n",
    "Proyek ini bertujuan untuk mencari profil aplikasi mobile dengan tingkat _engagement user_ tinggi di platform App Store dan Google Play. Hasil akhir dari analisa berbasiskan data ini diharapkan dapat membantu _developer_ dalam memilih jenis aplikasi yang akan dibangun dan memiliki potensi profit yang baik.\n",
    "\n",
    "Kategori aplikasi yang dianalisa adalah berjenis gratis. Potensi _income_ yang didapat hanya bersumber dari iklan yang ditampilan dalam aplikasi. Oleh karena itu, jumlah user yang mengunduh serta engagement terhadap iklan merupakan hal krusial.\n",
    "\n",
    "### Data Collection\n",
    "\n",
    "Tercatat pada bulan September 2018, terdapat setidaknya __2 juta aplikasi iOS__ tersedia di App Store dan __2,1 juta aplikasi Android__ di Google Play.\n",
    "\n",
    "Proses analisa terhadap jumlah data dengan skala besar seperti itu pasti membutuhkan resource yang tidak kecil. Oleh karena itu, proyek ini akan memanfaatkan sebuah sampel sebagai berikut:\n",
    "\n",
    "* [Dataset sampel](https://www.kaggle.com/lava18/google-play-store-apps) sebanyak __tujuh ribuan__ aplikasi iOS di Apple App Store.\n",
    "* [Dataset sampel](https://www.kaggle.com/lava18/google-play-store-apps) sebanyak __sepuluh ribuan__ aplikasi Android di Google Play Store."
   ]
  },
  {
   "cell_type": "markdown",
   "metadata": {},
   "source": [
    "Langkah awal yakni membuka file data set dan mengubahnya ke dalam bentuk list dengan fungsi `import_data` berikut:"
   ]
  },
  {
   "cell_type": "code",
   "execution_count": 1,
   "metadata": {},
   "outputs": [],
   "source": [
    "from csv import reader\n",
    "\n",
    "# fungsi untuk import data set #\n",
    "def import_data(path_file):\n",
    "    # cetak nama path file #\n",
    "    print(\"Nama file:\", path_file)\n",
    "    open_file = open(path_file, encoding='utf8')\n",
    "    read_file = reader(open_file)\n",
    "    list_data = list(read_file)\n",
    "    return list_data[0], list_data[1:]"
   ]
  },
  {
   "cell_type": "markdown",
   "metadata": {},
   "source": [
    "Setelah fungsi untuk mendapatkan list tersedia maka langkah selanjutnya adalah ekplorasi data melalui fungsi `explore_data` berikut ini."
   ]
  },
  {
   "cell_type": "code",
   "execution_count": 2,
   "metadata": {},
   "outputs": [],
   "source": [
    "def explore_data(app_list, start, end):\n",
    "    print(\"Jumlah kolom:\", len(app_list[0]))\n",
    "    print(\"Total baris:\", len(app_list))\n",
    "    # cetak #\n",
    "    for s in app_list[start:end]:\n",
    "        print(s,\"\\n\")"
   ]
  },
  {
   "cell_type": "markdown",
   "metadata": {},
   "source": [
    "Parameter pada fungsi di atas antara lain `app_list`, `start` dan `end` untuk index data yang ingin dilihat.\n",
    "\n",
    "Jika dijalankan maka akan mencetak keterangan sebagai berikut:\n",
    " * jumlah kolom\n",
    " * jumlah baris\n",
    " * baris data sampel"
   ]
  },
  {
   "cell_type": "markdown",
   "metadata": {},
   "source": [
    "### App Store Data Exploration\n",
    "Setelah membuat fungsi import file dan eksploras, maka saatnya memulai ekplorasi. "
   ]
  },
  {
   "cell_type": "code",
   "execution_count": 3,
   "metadata": {
    "scrolled": true
   },
   "outputs": [
    {
     "name": "stdout",
     "output_type": "stream",
     "text": [
      "Nama file: AppleStore.csv\n",
      "\n",
      "Header:\n",
      "['id', 'track_name', 'size_bytes', 'currency', 'price', 'rating_count_tot', 'rating_count_ver', 'user_rating', 'user_rating_ver', 'ver', 'cont_rating', 'prime_genre', 'sup_devices.num', 'ipadSc_urls.num', 'lang.num', 'vpp_lic'] \n",
      "\n",
      "Jumlah kolom: 16\n",
      "Total baris: 7197\n",
      "['284882215', 'Facebook', '389879808', 'USD', '0.0', '2974676', '212', '3.5', '3.5', '95.0', '4+', 'Social Networking', '37', '1', '29', '1'] \n",
      "\n",
      "['389801252', 'Instagram', '113954816', 'USD', '0.0', '2161558', '1289', '4.5', '4.0', '10.23', '12+', 'Photo & Video', '37', '0', '29', '1'] \n",
      "\n",
      "['529479190', 'Clash of Clans', '116476928', 'USD', '0.0', '2130805', '579', '4.5', '4.5', '9.24.12', '9+', 'Games', '38', '5', '18', '1'] \n",
      "\n"
     ]
    }
   ],
   "source": [
    "apple_store_header, apple_store_data = import_data('AppleStore.csv')\n",
    "print(\"\\nHeader:\")\n",
    "print(apple_store_header, \"\\n\")\n",
    "explore_data(apple_store_data, 0, 3)"
   ]
  },
  {
   "cell_type": "markdown",
   "metadata": {},
   "source": [
    "### Google Play Store Data Exploration\n",
    "Hal yang sama kita terapkan untuk dataset Google Play Store:"
   ]
  },
  {
   "cell_type": "code",
   "execution_count": 4,
   "metadata": {},
   "outputs": [
    {
     "name": "stdout",
     "output_type": "stream",
     "text": [
      "Nama file: GooglePlayStore.csv\n",
      "\n",
      "Header:\n",
      "['App', 'Category', 'Rating', 'Reviews', 'Size', 'Installs', 'Type', 'Price', 'Content Rating', 'Genres', 'Last Updated', 'Current Ver', 'Android Ver'] \n",
      "\n",
      "Jumlah kolom: 13\n",
      "Total baris: 10841\n",
      "['Photo Editor & Candy Camera & Grid & ScrapBook', 'ART_AND_DESIGN', '4.1', '159', '19M', '10,000+', 'Free', '0', 'Everyone', 'Art & Design', 'January 7, 2018', '1.0.0', '4.0.3 and up'] \n",
      "\n",
      "['Coloring book moana', 'ART_AND_DESIGN', '3.9', '967', '14M', '500,000+', 'Free', '0', 'Everyone', 'Art & Design;Pretend Play', 'January 15, 2018', '2.0.0', '4.0.3 and up'] \n",
      "\n",
      "['U Launcher Lite – FREE Live Cool Themes, Hide Apps', 'ART_AND_DESIGN', '4.7', '87510', '8.7M', '5,000,000+', 'Free', '0', 'Everyone', 'Art & Design', 'August 1, 2018', '1.2.4', '4.0.3 and up'] \n",
      "\n"
     ]
    }
   ],
   "source": [
    "google_play_store_header, google_play_store_data = import_data('GooglePlayStore.csv')\n",
    "print(\"\\nHeader:\")\n",
    "print(google_play_store_header, \"\\n\")\n",
    "explore_data(google_play_store_data, 0, 3)"
   ]
  },
  {
   "cell_type": "markdown",
   "metadata": {},
   "source": [
    "## Exploration Overview\n",
    "\n",
    "Dari eksplorasi singkat di atas, didapatkan informasi sebagai berikut\n",
    "\n",
    "App Store:\n",
    "* Dimensi kolom x baris = 7197 x 16\n",
    "* Fokus analisis pada kolom `id`, `track_name`, `currency`, `price`, `rating_count_tot`, `rating_count_ver`, `prime_genre`\n",
    "\n",
    "Play Store:\n",
    "* Dimensi kolom x baris = 10841 x 13\n",
    "* Fokus analisis pada kolom `App`, `Category`, `Rating`, `Reviews`, `Installs`, `Price`, `Genres`"
   ]
  },
  {
   "cell_type": "markdown",
   "metadata": {},
   "source": [
    "## Data Cleaning\n",
    "Setelah melihat data secara garis besar, tahapan selanjutnya sebelum memulai analisa adalah membersihkan data. Proses _data cleaning_ diperlukan untuk menghasilkan analisis yang akurat yaitu dengan cara membuang data yang tidak sesuai, data duplikasi hingga memodifikasi data sedemikian rupa untuk menunjang analisa (misalnya null parameter)."
   ]
  },
  {
   "cell_type": "markdown",
   "metadata": {},
   "source": [
    "### Penghapusan Anomali\n",
    "\n",
    "Dari sumber dataset Google Play store terdapat [diskusi mengenai anomali](https://www.kaggle.com/lava18/google-play-store-apps/discussion/66015) pada baris 10472. Berikut detail lengkap jika dibandingkan dengan data normal."
   ]
  },
  {
   "cell_type": "code",
   "execution_count": 5,
   "metadata": {},
   "outputs": [
    {
     "name": "stdout",
     "output_type": "stream",
     "text": [
      "['Life Made WI-Fi Touchscreen Photo Frame', '1.9', '19', '3.0M', '1,000+', 'Free', '0', 'Everyone', '', 'February 11, 2018', '1.0.19', '4.0 and up'] \n",
      "\n",
      "['App', 'Category', 'Rating', 'Reviews', 'Size', 'Installs', 'Type', 'Price', 'Content Rating', 'Genres', 'Last Updated', 'Current Ver', 'Android Ver'] \n",
      "\n",
      "['Photo Editor & Candy Camera & Grid & ScrapBook', 'ART_AND_DESIGN', '4.1', '159', '19M', '10,000+', 'Free', '0', 'Everyone', 'Art & Design', 'January 7, 2018', '1.0.0', '4.0.3 and up'] \n",
      "\n"
     ]
    }
   ],
   "source": [
    "print(google_play_store_data[10472],\"\\n\")\n",
    "print(google_play_store_header,\"\\n\")\n",
    "print(google_play_store_data[0],\"\\n\")"
   ]
  },
  {
   "cell_type": "code",
   "execution_count": 6,
   "metadata": {},
   "outputs": [
    {
     "name": "stdout",
     "output_type": "stream",
     "text": [
      "Google Play Store missing value:\n",
      "10472 | n kolom: 12\n"
     ]
    }
   ],
   "source": [
    "print(\"Google Play Store missing value:\")\n",
    "for i, app in enumerate(google_play_store_data):\n",
    "    if len(app) != 13:\n",
    "        print(i, \"| n kolom:\", len(app))"
   ]
  },
  {
   "cell_type": "markdown",
   "metadata": {},
   "source": [
    "__Terdapat missing value di kolom 'Category' yang menyebabkan data bergeser. Solusi saat ini yaitu penghapusan data.__"
   ]
  },
  {
   "cell_type": "code",
   "execution_count": 7,
   "metadata": {},
   "outputs": [
    {
     "name": "stdout",
     "output_type": "stream",
     "text": [
      "10840\n"
     ]
    }
   ],
   "source": [
    "del(google_play_store_data[10472])\n",
    "print(len(google_play_store_data))"
   ]
  },
  {
   "cell_type": "markdown",
   "metadata": {},
   "source": [
    "__Pengecekan yang sama kita lakukan terhadap dataset App Store dan tidak ditemukan anomali.__"
   ]
  },
  {
   "cell_type": "code",
   "execution_count": 8,
   "metadata": {},
   "outputs": [
    {
     "name": "stdout",
     "output_type": "stream",
     "text": [
      "App Store missing value:\n"
     ]
    }
   ],
   "source": [
    "print(\"App Store missing value:\")\n",
    "for i, app in enumerate(apple_store_data):\n",
    "    if len(app) != 16:\n",
    "        print(i, \"| kolom:\", len(app))"
   ]
  },
  {
   "cell_type": "markdown",
   "metadata": {},
   "source": [
    "## Data Cleaning - Bagian 1\n",
    "\n",
    "Pada dokumentasi dataset yang telah disertakan, terdapat beberapa diskusi yang menyatakan adanya duplikasi data. Untuk menunjang keakuratan hasil analisa nantinya diperlukan penghapusan data-data tidak akurat dengan langkah sebagai berikut:\n",
    "\n",
    "1. memisahkan antara data unik dan duplikasi\n",
    "2. memeriksa perbedaan nilai/atribut antar data duplikasi\n",
    "3. menentukan kriteria duplikasi yang akan dihapus\n",
    "\n",
    "Pemisahan nilai akan terfokus pada atribut nama aplikasi. Untuk mengetahui jumlah duplikasi di kedua dataset, kita gunakan fungsi sebagai berikut untuk tujuan efisiensi."
   ]
  },
  {
   "cell_type": "code",
   "execution_count": 9,
   "metadata": {},
   "outputs": [],
   "source": [
    "def selecting_duplicates(list_of_data, index_name):\n",
    "    app_unique = []\n",
    "    app_duplicate = []\n",
    "    \n",
    "    for app in list_of_data:\n",
    "        app_name = app[index_name]\n",
    "        \n",
    "        if app_name not in app_unique:\n",
    "            app_unique.append(app_name)\n",
    "        else:\n",
    "            app_duplicate.append(app_name)\n",
    "    \n",
    "    return app_unique, app_duplicate"
   ]
  },
  {
   "cell_type": "code",
   "execution_count": 10,
   "metadata": {},
   "outputs": [
    {
     "name": "stdout",
     "output_type": "stream",
     "text": [
      "App Store unique:  7195\n",
      "App Store duplicate:  2\n",
      "------------------------------------\n",
      "Google Play Store unique:  9659\n",
      "Google Play duplicate:  1181\n"
     ]
    }
   ],
   "source": [
    "app_store_unique, app_store_duplicate = selecting_duplicates(apple_store_data, 1)\n",
    "google_play_unique, google_play_duplicate = selecting_duplicates(google_play_store_data, 0)\n",
    "\n",
    "print(\"App Store unique: \", len(app_store_unique))\n",
    "print(\"App Store duplicate: \", len(app_store_duplicate))\n",
    "print(\"------------------------------------\")\n",
    "print(\"Google Play Store unique: \", len(google_play_unique))\n",
    "print(\"Google Play duplicate: \", len(google_play_duplicate))"
   ]
  },
  {
   "cell_type": "markdown",
   "metadata": {},
   "source": [
    "Secara garis besar telah kita ketahui jumlah duplikasinya. Hasil analisa hanya akan akurat jika dilakukan menggunakan data yang akurat pula. Hal ini berpegang pada prinsip GIGO/_Garbage In Garbage Out_. Seleksi terhadap data duplikasi untuk mendapat data yang diinginkan tentu tidak boleh dilakukan secara acak. \n",
    "\n",
    "Selanjutnya dari hasil fungsi `selecting_duplicates` yang didapat. Kita akan mengamati kemungkinan perbedaan di dalamnya dengan contoh sebagai sebagai berikut."
   ]
  },
  {
   "cell_type": "markdown",
   "metadata": {},
   "source": [
    "### App Store Data\n",
    "Karena jumlah duplikasi hanya dua, maka kita amati keduanya."
   ]
  },
  {
   "cell_type": "code",
   "execution_count": 11,
   "metadata": {},
   "outputs": [
    {
     "name": "stdout",
     "output_type": "stream",
     "text": [
      "App Store Data\n",
      "['1173990889', 'Mannequin Challenge', '109705216', 'USD', '0.0', '668', '87', '3.0', '3.0', '1.4', '9+', 'Games', '37', '4', '1', '1'] \n",
      "\n",
      "['1178454060', 'Mannequin Challenge', '59572224', 'USD', '0.0', '105', '58', '4.0', '4.5', '1.0.1', '4+', 'Games', '38', '5', '1', '1'] \n",
      "\n",
      "['952877179', 'VR Roller Coaster', '169523200', 'USD', '0.0', '107', '102', '3.5', '3.5', '2.0.0', '4+', 'Games', '37', '5', '1', '1'] \n",
      "\n",
      "['1089824278', 'VR Roller Coaster', '240964608', 'USD', '0.0', '67', '44', '3.5', '4.0', '0.81', '4+', 'Games', '38', '0', '1', '1'] \n",
      "\n"
     ]
    }
   ],
   "source": [
    "print(\"App Store Data\")\n",
    "\n",
    "for app_name in app_store_duplicate:\n",
    "    for app in apple_store_data:\n",
    "        if app_name == app[1]:\n",
    "            print(app,\"\\n\")"
   ]
  },
  {
   "cell_type": "markdown",
   "metadata": {},
   "source": [
    "Kesimpulan:\n",
    "* Terdapat 4 buah data duplikasi yang sebenarnya bukan duplikasi karena setiap aplikasi tersebut memiliki `id` yang berbeda\n"
   ]
  },
  {
   "cell_type": "code",
   "execution_count": 12,
   "metadata": {},
   "outputs": [],
   "source": [
    "# list dataset app store baru\n",
    "app_store_clean = apple_store_data"
   ]
  },
  {
   "cell_type": "markdown",
   "metadata": {},
   "source": [
    "### Google Play Store Data\n",
    "Jumlah duplikasi data Google Play Store sangat besar. Proses seleksi dilakukan lebih spesifik dengan melihat perbedaan nilai pada atribut selain nama. Sebagai contoh adalah aplikasi dengan nama Instagram dan Video Editor sebagai berikut. "
   ]
  },
  {
   "cell_type": "code",
   "execution_count": 13,
   "metadata": {},
   "outputs": [
    {
     "name": "stdout",
     "output_type": "stream",
     "text": [
      "Google Play Store Data\n",
      "['Instagram', 'SOCIAL', '4.5', '66509917', 'Varies with device', '1,000,000,000+', 'Free', '0', 'Teen', 'Social', 'July 31, 2018', 'Varies with device', 'Varies with device'] \n",
      "\n",
      "['Instagram', 'SOCIAL', '4.5', '66577313', 'Varies with device', '1,000,000,000+', 'Free', '0', 'Teen', 'Social', 'July 31, 2018', 'Varies with device', 'Varies with device'] \n",
      "\n",
      "['Instagram', 'SOCIAL', '4.5', '66577313', 'Varies with device', '1,000,000,000+', 'Free', '0', 'Teen', 'Social', 'July 31, 2018', 'Varies with device', 'Varies with device'] \n",
      "\n",
      "['Instagram', 'SOCIAL', '4.5', '66577446', 'Varies with device', '1,000,000,000+', 'Free', '0', 'Teen', 'Social', 'July 31, 2018', 'Varies with device', 'Varies with device'] \n",
      "\n",
      "['Video Editor', 'FAMILY', '4.1', '159619', '23M', '5,000,000+', 'Free', '0', 'Everyone', 'Video Players & Editors;Creativity', 'July 17, 2018', '6.14.091', '4.3 and up'] \n",
      "\n",
      "['Video Editor', 'VIDEO_PLAYERS', '3.8', '1156', '23M', '100,000+', 'Free', '0', 'Everyone', 'Video Players & Editors', 'October 20, 2015', '1.3.9b', '4.3 and up'] \n",
      "\n",
      "['Video Editor', 'VIDEO_PLAYERS', '4.1', '159622', '23M', '5,000,000+', 'Free', '0', 'Everyone', 'Video Players & Editors;Creativity', 'July 17, 2018', '6.14.091', '4.3 and up'] \n",
      "\n"
     ]
    }
   ],
   "source": [
    "print(\"Google Play Store Data\")\n",
    "\n",
    "for app in sorted(google_play_store_data):\n",
    "    if app[0] == 'Instagram' or app[0] == 'Video Editor':\n",
    "        print(app,\"\\n\")"
   ]
  },
  {
   "cell_type": "markdown",
   "metadata": {},
   "source": [
    "Kesimpulan:\n",
    "* Aplikasi __Instagram__ memiliki perbedaan pada atribut `reviews`\n",
    "* Aplikasi __Video Editor__ memiliki perbedaan pada atribut `category`, `reviews` dan `Last Updated`\n",
    "* Perbedaan pada `category` akan diabaikan karena aplikasi di Google Play Store dapat memiliki kategori lebih dari satu dan ini memungkinkan duplikasi. \n",
    "* Atribut `Last Updated` dianggap cukup memberikan arti bahwa aplikasi yang memiliki nama sama namun tanggal update yang berbeda bukan merupakan aplikasi yang sama. \n",
    "* Selanjutnya, jika terdapat aplikasi dengan __nama__ dan __tanggal update__ yang sama, maka akan dipilih salah satu yang memiliki jumlah __review__ terbesar.\n"
   ]
  },
  {
   "cell_type": "code",
   "execution_count": 14,
   "metadata": {},
   "outputs": [
    {
     "name": "stdout",
     "output_type": "stream",
     "text": [
      "Clean:  8861\n",
      "Duplicate cleaned: 842\n"
     ]
    }
   ],
   "source": [
    "# list dataset google play store baru\n",
    "google_store_clean = []\n",
    "\n",
    "# dictionary duplikasi\n",
    "google_store_duplication_cleaned = {}\n",
    "for app in google_play_store_data:\n",
    "    name = app[0]\n",
    "    reviews = float(app[3])\n",
    "    last_update = app[10]\n",
    "\n",
    "    # jika nama tidak termasuk duplikasi maka otomatis masuk ke list bersih\n",
    "    if name not in google_play_duplicate:\n",
    "        google_store_clean.append(app)\n",
    "    else:\n",
    "        name_with_last_update = name+\"-\"+last_update\n",
    "        # jika kombinasi nama dan tanggal update tidak ada di list duplikasi\n",
    "        if name_with_last_update not in google_store_duplication_cleaned:\n",
    "            google_store_duplication_cleaned[name_with_last_update] = app\n",
    "        else:\n",
    "            # komparasi nilai review\n",
    "            if float(google_store_duplication_cleaned[name_with_last_update][3]) < reviews:\n",
    "                google_store_duplication_cleaned[name_with_last_update] = app\n",
    "                \n",
    "print(\"Clean: \", len(google_store_clean))\n",
    "print(\"Duplicate cleaned:\", len(google_store_duplication_cleaned))"
   ]
  },
  {
   "cell_type": "markdown",
   "metadata": {},
   "source": [
    "List data bersih sebanyak 8861 ini lebih kecil dari nilai `Google Play Store unique:  9659` sebelumnya dikarenakan data di dalamnya belum termasuk nama aplikasi duplikasi. Aplikasi Instagram dan Video Editor pada `google_store_duplication_cleaned` telah menjadi sebagai berikut."
   ]
  },
  {
   "cell_type": "code",
   "execution_count": 15,
   "metadata": {},
   "outputs": [
    {
     "name": "stdout",
     "output_type": "stream",
     "text": [
      "Instagram-July 31, 2018 <-> ['Instagram', 'SOCIAL', '4.5', '66577446', 'Varies with device', '1,000,000,000+', 'Free', '0', 'Teen', 'Social', 'July 31, 2018', 'Varies with device', 'Varies with device'] \n",
      "\n",
      "Video Editor-July 17, 2018 <-> ['Video Editor', 'VIDEO_PLAYERS', '4.1', '159622', '23M', '5,000,000+', 'Free', '0', 'Everyone', 'Video Players & Editors;Creativity', 'July 17, 2018', '6.14.091', '4.3 and up'] \n",
      "\n",
      "Video Editor-October 20, 2015 <-> ['Video Editor', 'VIDEO_PLAYERS', '3.8', '1156', '23M', '100,000+', 'Free', '0', 'Everyone', 'Video Players & Editors', 'October 20, 2015', '1.3.9b', '4.3 and up'] \n",
      "\n"
     ]
    }
   ],
   "source": [
    "for key,value in sorted(google_store_duplication_cleaned.items()):\n",
    "    if key.split(\"-\")[0] == 'Instagram' or key.split(\"-\")[0] == 'Video Editor':\n",
    "        print(key, \"<->\", value, \"\\n\")"
   ]
  },
  {
   "cell_type": "markdown",
   "metadata": {},
   "source": [
    "* Aplikasi Instagram tersisa satu dengan jumlah review 66577446\n",
    "* Video Editor menjadi 2 data yaitu dengan tanggal update July 17, 2018 dan October 20, 2015\n",
    "* Aplikasi Video Editor tanggal update July 17, 2018 memiliki jumlah review 159622 (diambil nilai terbesar)\n",
    "\n",
    "Maka dari sampel data duplikasi bersih yang terbentuk, kita dapat menggabungkannya ke list google_store_clean dengan cara berikut."
   ]
  },
  {
   "cell_type": "code",
   "execution_count": 16,
   "metadata": {},
   "outputs": [],
   "source": [
    "google_store_clean = google_store_clean + list(google_store_duplication_cleaned.values())"
   ]
  },
  {
   "cell_type": "markdown",
   "metadata": {},
   "source": [
    "## Data Cleaning - Bagian 2\n",
    "Hingga tahapan _data cleaning_ pertama, data yang berhasil dihimpun pada masing-masing dataset adalah sebagai berikut."
   ]
  },
  {
   "cell_type": "code",
   "execution_count": 17,
   "metadata": {},
   "outputs": [
    {
     "name": "stdout",
     "output_type": "stream",
     "text": [
      "App Store: 7197\n",
      "Google Play: 9703\n"
     ]
    }
   ],
   "source": [
    "print(\"App Store:\", len(app_store_clean))\n",
    "print(\"Google Play:\", len(google_store_clean))"
   ]
  },
  {
   "cell_type": "markdown",
   "metadata": {},
   "source": [
    "Proses _data cleaning_ selanjutnya dilakukan terhadap aplikasi non-english. Hal ini dilakukan untuk memperluas _scope_ analisa nantinya dan tidak terfokus pada bahasa regional. \n",
    "\n",
    "Jika kita amati dataset saat ini secara lebih jauh, terdapat beberapa aplikasi berbahasa asing dengan contoh sebagai berikut."
   ]
  },
  {
   "cell_type": "code",
   "execution_count": 18,
   "metadata": {},
   "outputs": [
    {
     "name": "stdout",
     "output_type": "stream",
     "text": [
      "爱奇艺PPS -《欢乐颂2》电视剧热播\n",
      "AlloCiné : Cinéma et Séries\n"
     ]
    }
   ],
   "source": [
    "print(app_store_clean[813][1])\n",
    "print(app_store_clean[4486][1])"
   ]
  },
  {
   "cell_type": "code",
   "execution_count": 19,
   "metadata": {},
   "outputs": [
    {
     "name": "stdout",
     "output_type": "stream",
     "text": [
      "뽕티비 - 개인방송, 인터넷방송, BJ방송\n",
      "BL 女性向け恋愛ゲーム◆俺プリクロス\n"
     ]
    }
   ],
   "source": [
    "print(google_store_clean[4528][0])\n",
    "print(google_store_clean[4600][0])"
   ]
  },
  {
   "cell_type": "markdown",
   "metadata": {},
   "source": [
    "Mekanisme penghapusan data dapat dilakukan dengan basis karakter selain alfanumerik serta beberapa tanda baca seperti `,` `!` `?` dan simbol `+` `*` `/`.\n",
    "\n",
    "Relasi karakter dan representasi angkanya yang sering digunakan pada text berbahasa Inggris yakni memiliki rentang dari 0 hinga 127 menurut sistem [ASCII](https://en.wikipedia.org/wiki/ASCII) (American Standard Code for Information Interchange).\n",
    "\n",
    "Kita dapat memanfaatkan Python built-in function `ord()` untuk mendapatkan nilai berupa angka dari setiap karakter."
   ]
  },
  {
   "cell_type": "code",
   "execution_count": 20,
   "metadata": {},
   "outputs": [
    {
     "name": "stdout",
     "output_type": "stream",
     "text": [
      "33\n",
      "101\n",
      "233\n",
      "29233\n"
     ]
    }
   ],
   "source": [
    "print(ord('!'))\n",
    "print(ord('e'))\n",
    "print(ord('é'))\n",
    "print(ord('爱'))"
   ]
  },
  {
   "cell_type": "markdown",
   "metadata": {},
   "source": [
    "Proses seleksi karakter 'non-English' akan menggunakan fungsi sebagai berikut yang akan menghasilkan list baru dan didalamnya terdapat __paling sedikit satu karakter__ dengan nilai ASCII lebih dari __127__"
   ]
  },
  {
   "cell_type": "code",
   "execution_count": 21,
   "metadata": {},
   "outputs": [
    {
     "name": "stdout",
     "output_type": "stream",
     "text": [
      "App Store non-English: 1490\n",
      "['Google – Search made just for mobile', 'The Sims™ FreePlay', '8 Ball Pool™', 'Lose It! – Weight Loss Program and Calorie Counter', '▻Sudoku']\n",
      "\n",
      "Google Play non-English: 545\n",
      "['U Launcher Lite – FREE Live Cool Themes, Hide Apps', 'CarMax – Cars for Sale: Search Used Car Inventory', 'AutoScout24 Switzerland – Find your new car', 'Zona Azul Digital Fácil SP CET - OFFICIAL São Paulo', 'ReadEra – free ebook reader']\n"
     ]
    }
   ],
   "source": [
    "def find_non_english(list_of_data, index_name):\n",
    "    non_english = []\n",
    "    for i, app in enumerate(list_of_data):\n",
    "        name = app[index_name]\n",
    "        for c in name:\n",
    "            if ord(c) > 127:\n",
    "                non_english.append(name)\n",
    "                break;\n",
    "    return non_english\n",
    "\n",
    "app_store_non_english = find_non_english(app_store_clean, 1)\n",
    "google_store_non_english = find_non_english(google_store_clean, 0)\n",
    "\n",
    "print(\"App Store non-English:\", len(app_store_non_english))\n",
    "print(app_store_non_english[:5])\n",
    "print(\"\\nGoogle Play non-English:\", len(google_store_non_english))\n",
    "print(google_store_non_english[:5])"
   ]
  },
  {
   "cell_type": "markdown",
   "metadata": {},
   "source": [
    "Pada summary di atas kita dapatkan list dengan jumlah lebih dari 2000 aplikasi 'non-English'. Namun jika diamati, terdapat aplikasi yang menggunakan `™` dan tanda baca `-` meskipun keduanya telah menggunakan Bahasa Inggris."
   ]
  },
  {
   "cell_type": "code",
   "execution_count": 22,
   "metadata": {},
   "outputs": [
    {
     "name": "stdout",
     "output_type": "stream",
     "text": [
      "8482\n",
      "8211\n"
     ]
    }
   ],
   "source": [
    "print(ord('™'))\n",
    "print(ord('–'))"
   ]
  },
  {
   "cell_type": "markdown",
   "metadata": {},
   "source": [
    "Mekanisme seleksi ini perlu diperbaiki untuk mencegah kesalahan penghapusan dan kehilangan banyak data. Oleh karena itu, perlu adanya perbaikan pada fungsi sebelumnya. Kita tambahkan preferensi __tidak lebih dari tiga karakter__ di luar range ASCII 0 - 127"
   ]
  },
  {
   "cell_type": "code",
   "execution_count": 23,
   "metadata": {},
   "outputs": [
    {
     "name": "stdout",
     "output_type": "stream",
     "text": [
      "App Store non-English: 1014\n",
      "['爱奇艺PPS -《欢乐颂2》电视剧热播', '聚力视频HD-人民的名义,跨界歌王全网热播', '优酷视频', '网易新闻 - 精选好内容，算出你的兴趣', '淘宝 - 随时随地，想淘就淘']\n",
      "\n",
      "Google Play non-English: 45\n",
      "['Flame - درب عقلك يوميا', 'သိင်္ Astrology - Min Thein Kha BayDin', 'РИА Новости', 'صور حرف H', 'L.POINT - 엘포인트 [ 포인트, 멤버십, 적립, 사용, 모바일 카드, 쿠폰, 롯데]']\n"
     ]
    }
   ],
   "source": [
    "def find_non_english(list_of_data, index_name):\n",
    "    non_english = []\n",
    "    for i, app in enumerate(list_of_data):\n",
    "        name = app[index_name]\n",
    "        n_chars = 0\n",
    "        for c in name:\n",
    "            if ord(c) > 127:\n",
    "                n_chars += 1\n",
    "                \n",
    "        if n_chars > 3:\n",
    "            non_english.append(name)\n",
    "    return non_english\n",
    "\n",
    "app_store_non_english = find_non_english(app_store_clean, 1)\n",
    "google_store_non_english = find_non_english(google_store_clean, 0)\n",
    "\n",
    "print(\"App Store non-English:\", len(app_store_non_english))\n",
    "print(app_store_non_english[:5])\n",
    "print(\"\\nGoogle Play non-English:\", len(google_store_non_english))\n",
    "print(google_store_non_english[:5])"
   ]
  },
  {
   "cell_type": "markdown",
   "metadata": {},
   "source": [
    "Fungsi memang tidak sempurna dan masih ada kemungkinan aplikasi non-English lolos dalam seleksi. Namun jika dibandingkan dengan metode sebelumnya, sudah terlihat perbedaan yang signifikan.\n",
    "\n",
    "Pada fungsi di bawah ini kita akan menerapkan filter non-English untuk kedua dataset."
   ]
  },
  {
   "cell_type": "code",
   "execution_count": 24,
   "metadata": {},
   "outputs": [],
   "source": [
    "app_store_english = []\n",
    "for app in app_store_clean:\n",
    "    app_name = app[1]\n",
    "    if app_name not in app_store_non_english:\n",
    "        app_store_english.append(app)\n",
    "        \n",
    "google_store_english = []\n",
    "for app in google_store_clean:\n",
    "    app_name = app[0]\n",
    "    if app_name not in google_store_non_english:\n",
    "        google_store_english.append(app)"
   ]
  },
  {
   "cell_type": "markdown",
   "metadata": {},
   "source": [
    "## Data Cleaning - Bagian 3\n",
    "Hingga tahapan _data cleaning_ kedua, data yang berhasil dihimpun pada masing-masing dataset adalah sebagai berikut."
   ]
  },
  {
   "cell_type": "code",
   "execution_count": 25,
   "metadata": {},
   "outputs": [
    {
     "name": "stdout",
     "output_type": "stream",
     "text": [
      "App Store: 6183\n",
      "Google Play: 9658\n"
     ]
    }
   ],
   "source": [
    "print(\"App Store:\", len(app_store_english))\n",
    "print(\"Google Play:\", len(google_store_english))"
   ]
  },
  {
   "cell_type": "markdown",
   "metadata": {},
   "source": [
    "Sesuai dengan pembahasan pembuka, kriteria aplikasi yang dibutuhkan untuk analisa ini adalah yang bertipe gratis. Filter aplikasi gratis ini akan menjadi tahapan _data cleaning_ terakhir. "
   ]
  },
  {
   "cell_type": "code",
   "execution_count": 36,
   "metadata": {},
   "outputs": [
    {
     "name": "stdout",
     "output_type": "stream",
     "text": [
      "['0.0', '0.99', '1.99', '11.99', '12.99', '13.99', '14.99', '15.99', '16.99', '17.99', '18.99', '19.99', '2.99', '20.99', '21.99', '22.99', '24.99', '249.99', '27.99', '29.99', '299.99', '3.99', '34.99', '39.99', '4.99', '49.99', '5.99', '59.99', '6.99', '7.99', '74.99', '8.99', '9.99', '99.99']\n"
     ]
    }
   ],
   "source": [
    "app_store_price = []\n",
    "\n",
    "for app in app_store_english:\n",
    "    app_price = app[4]\n",
    "    if app_price not in app_store_price:\n",
    "        app_store_price.append(app_price)\n",
    "        \n",
    "print(sorted(app_store_price))"
   ]
  },
  {
   "cell_type": "code",
   "execution_count": 38,
   "metadata": {},
   "outputs": [
    {
     "name": "stdout",
     "output_type": "stream",
     "text": [
      "['$0.99', '$1.00', '$1.04', '$1.20', '$1.26', '$1.29', '$1.49', '$1.50', '$1.59', '$1.61', '$1.70', '$1.75', '$1.76', '$1.96', '$1.97', '$1.99', '$10.00', '$10.99', '$109.99', '$11.99', '$12.99', '$13.99', '$14.00', '$14.99', '$15.46', '$15.99', '$154.99', '$16.99', '$17.99', '$18.99', '$19.40', '$19.90', '$19.99', '$2.00', '$2.49', '$2.50', '$2.56', '$2.59', '$2.60', '$2.90', '$2.95', '$2.99', '$200.00', '$24.99', '$25.99', '$28.99', '$29.99', '$299.99', '$3.02', '$3.04', '$3.08', '$3.28', '$3.49', '$3.61', '$3.88', '$3.90', '$3.95', '$3.99', '$30.99', '$33.99', '$37.99', '$379.99', '$389.99', '$39.99', '$394.99', '$399.99', '$4.29', '$4.49', '$4.59', '$4.60', '$4.77', '$4.80', '$4.84', '$4.85', '$4.99', '$400.00', '$46.99', '$5.00', '$5.49', '$5.99', '$6.49', '$6.99', '$7.49', '$7.99', '$74.99', '$79.99', '$8.49', '$8.99', '$89.99', '$9.00', '$9.99', '0']\n"
     ]
    }
   ],
   "source": [
    "google_store_price = []\n",
    "\n",
    "for app in google_store_english:\n",
    "    app_price = app[7]\n",
    "    if app_price not in google_store_price:\n",
    "        google_store_price.append(app_price)\n",
    "        \n",
    "print(sorted(google_store_price))"
   ]
  },
  {
   "cell_type": "markdown",
   "metadata": {},
   "source": [
    "Melalui seleksi dan sorting harga aplikasi di atas, dapat kita ketahui bahwa:\n",
    "* Aplikasi gratis di App Store memiliki harga `'0.0'`\n",
    "* Aplikasi gratis di Google Play Store memiliki harga `'0'`\n",
    "\n",
    "Dengan informasi ini, kita akan membuat dataset aplikasi gratis sebagai berikut."
   ]
  },
  {
   "cell_type": "code",
   "execution_count": 39,
   "metadata": {},
   "outputs": [
    {
     "name": "stdout",
     "output_type": "stream",
     "text": [
      "App Store Free: 3222\n",
      "Google Play Free: 8906\n"
     ]
    }
   ],
   "source": [
    "app_store_free = []\n",
    "\n",
    "for app in app_store_english:\n",
    "    if app[4] == '0.0':\n",
    "        app_store_free.append(app)\n",
    "        \n",
    "google_store_free = []\n",
    "\n",
    "for app in google_store_english:\n",
    "    if app[7] == '0':\n",
    "        google_store_free.append(app)\n",
    "        \n",
    "print(\"App Store Free:\", len(app_store_free))\n",
    "print(\"Google Play Free:\", len(google_store_free))"
   ]
  },
  {
   "cell_type": "markdown",
   "metadata": {},
   "source": [
    "Hingga tahapan _data cleaning_ terakhir, tersisa __3222__ aplikasi iOS dan __8906__ aplikasi Android."
   ]
  },
  {
   "cell_type": "code",
   "execution_count": null,
   "metadata": {},
   "outputs": [],
   "source": []
  }
 ],
 "metadata": {
  "kernelspec": {
   "display_name": "Python 3",
   "language": "python",
   "name": "python3"
  },
  "language_info": {
   "codemirror_mode": {
    "name": "ipython",
    "version": 3
   },
   "file_extension": ".py",
   "mimetype": "text/x-python",
   "name": "python",
   "nbconvert_exporter": "python",
   "pygments_lexer": "ipython3",
   "version": "3.8.3"
  }
 },
 "nbformat": 4,
 "nbformat_minor": 4
}
