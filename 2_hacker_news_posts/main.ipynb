{
 "cells": [
  {
   "cell_type": "markdown",
   "metadata": {},
   "source": [
    "# Hacker News Posts\n",
    "\n",
    "In this project, we will work with a data set of submissions to popular technology site [Hacker News](https://news.ycombinator.com/).\n",
    "\n",
    "Hacker News is a site started by the startup incubator Y Combinator, where user-submitted stories (known as \"posts\") are voted and commented upon, similar to reddit. Hacker News is extremely popular in technology and startup circles, and posts that make it to the top of Hacker News' listings can get hundreds of thousands of visitors as a result.\n",
    "\n",
    "We are specifically interested in posts whose titles begin with either Ask HN or Show HN.\n",
    "    \n",
    "__We will compare these two types of posts to determine the following:__\n",
    " * Do Ask HN or Show HN receive more comments on average?\n",
    " * Do posts created at a certain time receive more comments on average?"
   ]
  },
  {
   "cell_type": "markdown",
   "metadata": {},
   "source": [
    "## Data Set Source\n",
    "\n",
    "Resource: https://www.kaggle.com/hacker-news/hacker-news-posts\n",
    "\n",
    "It contains 293,119 rows data gathered in 12 months up to September 26 2016. Below are descriptions of the columns:\n",
    "\n",
    "* `id` : The unique identifier from Hacker News for the post\n",
    "* `title` : The title of the post\n",
    "* `url` : The URL that the posts links to, if it the post has a URL\n",
    "* `num_points` : The number of points the post acquired, calculated as the total number of upvotes minus the total number of downvotes\n",
    "* `num_comments` : The number of comments that were made on the post\n",
    "* `author` : The username of the person who submitted the post\n",
    "* `created_at` : The date and time at which the post was submitted\n",
    "\n",
    "## Importing Data Set\n",
    "Let's start by importing the libraries we need and reading the data set into a list of lists."
   ]
  },
  {
   "cell_type": "code",
   "execution_count": 11,
   "metadata": {},
   "outputs": [
    {
     "name": "stdout",
     "output_type": "stream",
     "text": [
      "['id', 'title', 'url', 'num_points', 'num_comments', 'author', 'created_at'] \n",
      "\n",
      "Rows: 293119\n"
     ]
    },
    {
     "data": {
      "text/plain": [
       "[['12579008',\n",
       "  'You have two days to comment if you want stem cells to be classified as your own',\n",
       "  'http://www.regulations.gov/document?D=FDA-2015-D-3719-0018',\n",
       "  '1',\n",
       "  '0',\n",
       "  'altstar',\n",
       "  '9/26/2016 3:26'],\n",
       " ['12579005',\n",
       "  'SQLAR  the SQLite Archiver',\n",
       "  'https://www.sqlite.org/sqlar/doc/trunk/README.md',\n",
       "  '1',\n",
       "  '0',\n",
       "  'blacksqr',\n",
       "  '9/26/2016 3:24'],\n",
       " ['12578997',\n",
       "  'What if we just printed a flatscreen television on the side of our boxes?',\n",
       "  'https://medium.com/vanmoof/our-secrets-out-f21c1f03fdc8#.ietxmez43',\n",
       "  '1',\n",
       "  '0',\n",
       "  'pavel_lishin',\n",
       "  '9/26/2016 3:19']]"
      ]
     },
     "execution_count": 11,
     "metadata": {},
     "output_type": "execute_result"
    }
   ],
   "source": [
    "from csv import reader\n",
    "\n",
    "opened_file = open('hacker_news.csv', encoding='utf8')\n",
    "read_file = reader(opened_file)\n",
    "list_data = list(read_file)\n",
    "headers = list_data[0]\n",
    "hn = list_data[1:]\n",
    "\n",
    "# display headers, total rows and first three samples\n",
    "print(headers,\"\\n\")\n",
    "print(\"Rows:\",len(hn))\n",
    "hn[:3]"
   ]
  },
  {
   "cell_type": "markdown",
   "metadata": {},
   "source": [
    "Users submit Ask HN posts to ask the Hacker News community a specific question. Below are a couple examples:\n",
    "\n",
    "    Ask HN: How to improve my personal website?\n",
    "    Ask HN: Am I the only one outraged by Twitter shutting down share counts?\n",
    "    Ask HN: Aby recent changes to CSS that broke mobile?\n",
    "\n",
    "Likewise, users submit Show HN posts to show the Hacker News community a project, product, or just generally something interesting. Below are a couple of examples:\n",
    "\n",
    "    Show HN: Wio Link  ESP8266 Based Web of Things Hardware Development Platform'\n",
    "    Show HN: Something pointless I made\n",
    "    Show HN: Shanhu.io, a programming playground powered by e8vm\n",
    "\n",
    "\n",
    "## Extracting Ask HN and Show Hn Posts\n",
    "\n",
    "Since our concerns are post titles beginning with __Ask HN__ or __Show HN__, we will create new lists of lists containing just the data for those titles."
   ]
  },
  {
   "cell_type": "code",
   "execution_count": 12,
   "metadata": {},
   "outputs": [
    {
     "name": "stdout",
     "output_type": "stream",
     "text": [
      "Totals Posts:  293119\n",
      "Ask Posts:  9122\n",
      "Show Posts:  10150\n",
      "Other Posts:  273847\n"
     ]
    }
   ],
   "source": [
    "ask_posts = []\n",
    "show_posts = []\n",
    "other_posts = []\n",
    "\n",
    "for row in hn:\n",
    "    title = row[1]\n",
    "    if title.startswith('Ask HN'):\n",
    "        ask_posts.append(row)\n",
    "    elif title.startswith('Show HN'):\n",
    "        show_posts.append(row)\n",
    "    else:\n",
    "        other_posts.append(row)\n",
    "\n",
    "print(\"Total Posts: \", len(hn))\n",
    "print(\"Ask Posts: \", len(ask_posts))\n",
    "print(\"Show Posts: \", len(show_posts))\n",
    "print(\"Other Posts: \", len(other_posts))"
   ]
  },
  {
   "cell_type": "markdown",
   "metadata": {},
   "source": [
    "__Note that it has been reduced from almost 300,000 rows to approximately 20,000 rows if we sum the `Ask HN` and `Show HN` posts.__"
   ]
  },
  {
   "cell_type": "markdown",
   "metadata": {},
   "source": [
    "## Calculating Average Number of Comments\n",
    "\n",
    "Next we will be working with the number of comments for each `Ask HN` and `Show \n",
    "HN` starting with the total comments and then the average number of comments per post."
   ]
  },
  {
   "cell_type": "code",
   "execution_count": 5,
   "metadata": {},
   "outputs": [
    {
     "name": "stdout",
     "output_type": "stream",
     "text": [
      "Total ask comments: 94930\n",
      "Average comments per post: 10.406709055031792\n"
     ]
    }
   ],
   "source": [
    "# calculating total number for Ask HN\n",
    "total_ask_comments = 0\n",
    "for row in ask_posts:\n",
    "    n_comments =int(row[4])\n",
    "    total_ask_comments += n_comments\n",
    "    \n",
    "# calculating average number Ask HN posts\n",
    "avg_ask_comments = total_ask_comments / len(ask_posts)\n",
    "\n",
    "print(\"Total ask comments:\", total_ask_comments)\n",
    "print(\"Average comments per post:\", avg_ask_comments)"
   ]
  },
  {
   "cell_type": "code",
   "execution_count": 13,
   "metadata": {},
   "outputs": [
    {
     "name": "stdout",
     "output_type": "stream",
     "text": [
      "Total show comments: 49617\n",
      "Average comments per post: 4.888374384236453\n"
     ]
    }
   ],
   "source": [
    "# calculating total number for Show HN\n",
    "total_show_comments = 0\n",
    "for row in show_posts:\n",
    "    n_comments =int(row[4])\n",
    "    total_show_comments += n_comments\n",
    "    \n",
    "# calculating average number Show HN posts\n",
    "avg_show_comments = total_show_comments / len(show_posts)\n",
    "\n",
    "print(\"Total show comments:\", total_show_comments)\n",
    "print(\"Average comments per post:\", avg_show_comments)"
   ]
  },
  {
   "cell_type": "markdown",
   "metadata": {},
   "source": [
    "We're discovering that __`Ask HN` posts receive more comments averaging in 10.40__ comments per post in comparison to `Show HN` with average 4.88 comments per post.\n",
    "\n",
    "## Finding the Amount of Posts and Comments By Hour\n",
    "\n",
    "Next, we will determine if ask posts created at a certain time are more likely to attract comments by using these steps:\n",
    "\n",
    "1. Calculate the amount of ask posts created in each hour of the day, along with the number of comments received.\n",
    "2. Calculate the average number of comments ask posts receive by hour created.\n",
    "\n",
    "We will tackle the first step by using `datetime` module to work with the data in the `created_at` column. Beginning with parsing the dates stored as string and return datetime objects by using `datetime.strptime()`. The date format based on `created_at` value is `%m/%d/%Y %H:%M`"
   ]
  },
  {
   "cell_type": "code",
   "execution_count": 7,
   "metadata": {},
   "outputs": [
    {
     "data": {
      "text/plain": [
       "['9/26/2016 2:53', 7]"
      ]
     },
     "execution_count": 7,
     "metadata": {},
     "output_type": "execute_result"
    }
   ],
   "source": [
    "import datetime as dt\n",
    "\n",
    "result_list = []\n",
    "\n",
    "for row in ask_posts:\n",
    "    n_comments = int(row[4])\n",
    "    created_at = row[6]\n",
    "    result_list.append([created_at, n_comments])\n",
    "    \n",
    "result_list[0]"
   ]
  },
  {
   "cell_type": "markdown",
   "metadata": {},
   "source": [
    "By looping through `ask_posts` we created a `result_list` containing list creation time in string format and number of comments per post. \n",
    "\n",
    "Below we will create two dictionaries:\n",
    " * `counts_by_hour` : contains the number of ask posts created during each hour of the day.\n",
    " * `comments_by_hour` : contains the corresponding number of comments ask posts created at each hour received."
   ]
  },
  {
   "cell_type": "code",
   "execution_count": 8,
   "metadata": {},
   "outputs": [],
   "source": [
    "counts_by_hour = {}\n",
    "comments_by_hour = {}\n",
    "\n",
    "for row in result_list:\n",
    "    creation = row[0]\n",
    "    creation_date = dt.datetime.strptime(creation, \"%m/%d/%Y %H:%M\")\n",
    "    creation_time = creation_date.strftime(\"%H\")\n",
    "    if creation_time not in counts_by_hour:\n",
    "        counts_by_hour[creation_time] = 1\n",
    "    else:\n",
    "        counts_by_hour[creation_time] += 1\n",
    "    \n",
    "    n_comments = row[1]\n",
    "    if creation_time not in comments_by_hour:\n",
    "        comments_by_hour[creation_time] = n_comments\n",
    "    else:\n",
    "        comments_by_hour[creation_time] += n_comments"
   ]
  },
  {
   "cell_type": "markdown",
   "metadata": {},
   "source": [
    "Next, we will use these two dictionaries to calculate the average number of comments for posts created during each hour of the day."
   ]
  },
  {
   "cell_type": "code",
   "execution_count": 9,
   "metadata": {},
   "outputs": [
    {
     "data": {
      "text/plain": [
       "[['02', 11.137546468401487],\n",
       " ['01', 7.407801418439717],\n",
       " ['22', 8.819371727748692],\n",
       " ['21', 8.720930232558139],\n",
       " ['19', 7.176043557168784],\n",
       " ['17', 9.449744463373083],\n",
       " ['15', 28.676470588235293],\n",
       " ['14', 9.70703125],\n",
       " ['13', 16.350678733031675],\n",
       " ['11', 9.012903225806452],\n",
       " ['10', 10.684397163120567],\n",
       " ['09', 6.653153153153153],\n",
       " ['07', 7.04],\n",
       " ['03', 7.974074074074074],\n",
       " ['23', 6.696793002915452],\n",
       " ['20', 8.749019607843136],\n",
       " ['16', 7.717993079584775],\n",
       " ['08', 9.190661478599221],\n",
       " ['00', 7.575250836120401],\n",
       " ['18', 7.954248366013072],\n",
       " ['12', 12.380116959064328],\n",
       " ['04', 9.743801652892563],\n",
       " ['06', 6.782051282051282],\n",
       " ['05', 8.794258373205741]]"
      ]
     },
     "execution_count": 9,
     "metadata": {},
     "output_type": "execute_result"
    }
   ],
   "source": [
    "avg_by_hour = []\n",
    "\n",
    "for key, value in comments_by_hour.items():\n",
    "    n_posts_at_hour = counts_by_hour[key]\n",
    "    avg_posts_at_hour = value / n_posts_at_hour\n",
    "    \n",
    "    avg_by_hour.append([key, avg_posts_at_hour])\n",
    "    \n",
    "avg_by_hour"
   ]
  },
  {
   "cell_type": "markdown",
   "metadata": {},
   "source": [
    "## Sorting Result List\n",
    "\n",
    "Although we now have the results we need, this format makes it hard to identify the hours with the highest values. Let's finish by sorting the list of lists and printing the five highest values in a format that's easier to read. \n",
    "\n",
    "We will swap the first value and the second value of each list so we can sort it with built-in `sorted()` Python function.\n",
    "\n",
    "### Top 5 Hours for Ask Posts Comments"
   ]
  },
  {
   "cell_type": "code",
   "execution_count": 14,
   "metadata": {},
   "outputs": [
    {
     "name": "stdout",
     "output_type": "stream",
     "text": [
      "15:00: 28.68 average comments per post\n",
      "13:00: 16.35 average comments per post\n",
      "12:00: 12.38 average comments per post\n",
      "02:00: 11.14 average comments per post\n",
      "10:00: 10.68 average comments per post\n"
     ]
    }
   ],
   "source": [
    "swap_avg_by_hour = []\n",
    "\n",
    "for avg in avg_by_hour:\n",
    "    swap_avg_by_hour.append([avg[1], avg[0]])\n",
    "\n",
    "sorted_swap = sorted(swap_avg_by_hour, reverse=True)\n",
    "template = \"{time}: {avg:.2f} average comments per post\"\n",
    "\n",
    "for avg in sorted_swap[:5]:\n",
    "    created_at = dt.datetime.strptime(avg[1], \"%H\")\n",
    "    time_format = created_at.strftime(\"%H:%M\")    \n",
    "    print(template.format(time=time_format, avg=avg[0]))"
   ]
  },
  {
   "cell_type": "markdown",
   "metadata": {},
   "source": [
    "## Conclusion\n",
    "\n",
    "* `Ask HN` received more comments than `Show HN` posts\n",
    "* Ask posts posted between 1 PM to 3 PM (Eastern Time in the US) tend to receive more comments"
   ]
  }
 ],
 "metadata": {
  "kernelspec": {
   "display_name": "Python 3",
   "language": "python",
   "name": "python3"
  },
  "language_info": {
   "codemirror_mode": {
    "name": "ipython",
    "version": 3
   },
   "file_extension": ".py",
   "mimetype": "text/x-python",
   "name": "python",
   "nbconvert_exporter": "python",
   "pygments_lexer": "ipython3",
   "version": "3.8.3"
  }
 },
 "nbformat": 4,
 "nbformat_minor": 4
}
